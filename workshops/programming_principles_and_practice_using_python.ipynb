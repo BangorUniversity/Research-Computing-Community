{
  "nbformat": 4,
  "nbformat_minor": 0,
  "metadata": {
    "colab": {
      "name": "Copy of programming_principles_and_practice_using_python.ipynb",
      "provenance": [],
      "collapsed_sections": [],
      "authorship_tag": "ABX9TyNwe3WSCgRxyyKyUMnchAMH",
      "include_colab_link": true
    },
    "kernelspec": {
      "name": "python3",
      "display_name": "Python 3"
    }
  },
  "cells": [
    {
      "cell_type": "markdown",
      "metadata": {
        "id": "view-in-github",
        "colab_type": "text"
      },
      "source": [
        "<a href=\"https://colab.research.google.com/github/BangorUniversity/Research-Computing-Community/blob/master/workshops/programming_principles_and_practice_using_python.ipynb\" target=\"_parent\"><img src=\"https://colab.research.google.com/assets/colab-badge.svg\" alt=\"Open In Colab\"/></a>"
      ]
    },
    {
      "cell_type": "markdown",
      "metadata": {
        "id": "G6h9jbLOBhKA",
        "colab_type": "text"
      },
      "source": [
        "## **Programming Principles and Practice using Python**\n",
        "---"
      ]
    },
    {
      "cell_type": "markdown",
      "metadata": {
        "id": "B_Y9xsJ-N6OC",
        "colab_type": "text"
      },
      "source": [
        "## String(str)"
      ]
    },
    {
      "cell_type": "code",
      "metadata": {
        "id": "8on4Pr2FOZJk",
        "colab_type": "code",
        "outputId": "3e17364c-82f4-4062-8fc9-c374174c68a8",
        "colab": {
          "base_uri": "https://localhost:8080/",
          "height": 34
        }
      },
      "source": [
        "name='Aaron' \n",
        "name"
      ],
      "execution_count": 0,
      "outputs": [
        {
          "output_type": "execute_result",
          "data": {
            "text/plain": [
              "'Aaron'"
            ]
          },
          "metadata": {
            "tags": []
          },
          "execution_count": 260
        }
      ]
    },
    {
      "cell_type": "code",
      "metadata": {
        "id": "UcbfLhBBOZkr",
        "colab_type": "code",
        "outputId": "8f43cd07-39c6-4e33-ec1e-02c06031874a",
        "colab": {
          "base_uri": "https://localhost:8080/",
          "height": 34
        }
      },
      "source": [
        "name=\"Beth\"\n",
        "name"
      ],
      "execution_count": 0,
      "outputs": [
        {
          "output_type": "execute_result",
          "data": {
            "text/plain": [
              "'Beth'"
            ]
          },
          "metadata": {
            "tags": []
          },
          "execution_count": 261
        }
      ]
    },
    {
      "cell_type": "code",
      "metadata": {
        "id": "auM4va3_ObD4",
        "colab_type": "code",
        "outputId": "815dcec9-c298-4723-e982-0b416869afba",
        "colab": {
          "base_uri": "https://localhost:8080/",
          "height": 34
        }
      },
      "source": [
        "type(name)"
      ],
      "execution_count": 0,
      "outputs": [
        {
          "output_type": "execute_result",
          "data": {
            "text/plain": [
              "str"
            ]
          },
          "metadata": {
            "tags": []
          },
          "execution_count": 262
        }
      ]
    },
    {
      "cell_type": "code",
      "metadata": {
        "id": "y43nUKMWObIM",
        "colab_type": "code",
        "outputId": "947d1daa-683e-437c-e503-3771cd1856b9",
        "colab": {
          "base_uri": "https://localhost:8080/",
          "height": 34
        }
      },
      "source": [
        "print(\"This string contains a single quote (') character.\")"
      ],
      "execution_count": 0,
      "outputs": [
        {
          "output_type": "stream",
          "text": [
            "This string contains a single quote (') character.\n"
          ],
          "name": "stdout"
        }
      ]
    },
    {
      "cell_type": "code",
      "metadata": {
        "id": "A4VkDVHGObK2",
        "colab_type": "code",
        "outputId": "255dd77c-11c2-4c83-abcf-9fa5355f492f",
        "colab": {
          "base_uri": "https://localhost:8080/",
          "height": 34
        }
      },
      "source": [
        "print('This string contains a double quote (\") character.')"
      ],
      "execution_count": 0,
      "outputs": [
        {
          "output_type": "stream",
          "text": [
            "This string contains a double quote (\") character.\n"
          ],
          "name": "stdout"
        }
      ]
    },
    {
      "cell_type": "code",
      "metadata": {
        "id": "5HSPc_-cObOK",
        "colab_type": "code",
        "outputId": "b228fe76-caf0-4c12-8322-d2e235d2c481",
        "colab": {
          "base_uri": "https://localhost:8080/",
          "height": 34
        }
      },
      "source": [
        "print('''This string has a single (') and a double (\") quote.''')"
      ],
      "execution_count": 0,
      "outputs": [
        {
          "output_type": "stream",
          "text": [
            "This string has a single (') and a double (\") quote.\n"
          ],
          "name": "stdout"
        }
      ]
    },
    {
      "cell_type": "code",
      "metadata": {
        "id": "pLueJ-kHObQ1",
        "colab_type": "code",
        "outputId": "3d5d1aea-cd6f-40be-d821-57e779b51339",
        "colab": {
          "base_uri": "https://localhost:8080/",
          "height": 68
        }
      },
      "source": [
        "print(\"\"\"This is a\n",
        "string that spans\n",
        "across several lines\"\"\")"
      ],
      "execution_count": 0,
      "outputs": [
        {
          "output_type": "stream",
          "text": [
            "This is a\n",
            "string that spans\n",
            "across several lines\n"
          ],
          "name": "stdout"
        }
      ]
    },
    {
      "cell_type": "markdown",
      "metadata": {
        "id": "miN4pZo2PhC0",
        "colab_type": "text"
      },
      "source": [
        "## Integer (int)"
      ]
    },
    {
      "cell_type": "code",
      "metadata": {
        "id": "mfppFHpwPmMp",
        "colab_type": "code",
        "outputId": "5c80ebd2-f0ce-41de-85b9-335859d14742",
        "colab": {
          "base_uri": "https://localhost:8080/",
          "height": 34
        }
      },
      "source": [
        "a=1\n",
        "a"
      ],
      "execution_count": 0,
      "outputs": [
        {
          "output_type": "execute_result",
          "data": {
            "text/plain": [
              "1"
            ]
          },
          "metadata": {
            "tags": []
          },
          "execution_count": 267
        }
      ]
    },
    {
      "cell_type": "code",
      "metadata": {
        "id": "1ZD8777_PmO5",
        "colab_type": "code",
        "outputId": "a7e093f2-09bf-44d8-aa87-9c91d3676e2a",
        "colab": {
          "base_uri": "https://localhost:8080/",
          "height": 34
        }
      },
      "source": [
        "b=123456\n",
        "b"
      ],
      "execution_count": 0,
      "outputs": [
        {
          "output_type": "execute_result",
          "data": {
            "text/plain": [
              "123456"
            ]
          },
          "metadata": {
            "tags": []
          },
          "execution_count": 268
        }
      ]
    },
    {
      "cell_type": "code",
      "metadata": {
        "id": "AmeYLS5SPmRq",
        "colab_type": "code",
        "outputId": "0c43caaf-9127-42f5-8d74-6f22edb434ee",
        "colab": {
          "base_uri": "https://localhost:8080/",
          "height": 34
        }
      },
      "source": [
        "type(b)"
      ],
      "execution_count": 0,
      "outputs": [
        {
          "output_type": "execute_result",
          "data": {
            "text/plain": [
              "int"
            ]
          },
          "metadata": {
            "tags": []
          },
          "execution_count": 269
        }
      ]
    },
    {
      "cell_type": "code",
      "metadata": {
        "id": "CuJ9wAoSPmUE",
        "colab_type": "code",
        "outputId": "c6ff7965-3850-434b-ee50-5632f7a5eb84",
        "colab": {
          "base_uri": "https://localhost:8080/",
          "height": 34
        }
      },
      "source": [
        "c=0b10   # Binary 2\n",
        "c"
      ],
      "execution_count": 0,
      "outputs": [
        {
          "output_type": "execute_result",
          "data": {
            "text/plain": [
              "2"
            ]
          },
          "metadata": {
            "tags": []
          },
          "execution_count": 270
        }
      ]
    },
    {
      "cell_type": "code",
      "metadata": {
        "id": "aaQCUz4dPtVw",
        "colab_type": "code",
        "outputId": "75f8b8c2-40e8-45d8-bcd9-ef3c2a5eef25",
        "colab": {
          "base_uri": "https://localhost:8080/",
          "height": 34
        }
      },
      "source": [
        "d=0x10   # Hexadecimal 16\n",
        "d"
      ],
      "execution_count": 0,
      "outputs": [
        {
          "output_type": "execute_result",
          "data": {
            "text/plain": [
              "16"
            ]
          },
          "metadata": {
            "tags": []
          },
          "execution_count": 271
        }
      ]
    },
    {
      "cell_type": "code",
      "metadata": {
        "id": "ew72BFfMPtZN",
        "colab_type": "code",
        "outputId": "f773f3c8-4aae-43e7-d70c-fd01cb59d4df",
        "colab": {
          "base_uri": "https://localhost:8080/",
          "height": 34
        }
      },
      "source": [
        "e=0o10   # Octal 8\n",
        "e"
      ],
      "execution_count": 0,
      "outputs": [
        {
          "output_type": "execute_result",
          "data": {
            "text/plain": [
              "8"
            ]
          },
          "metadata": {
            "tags": []
          },
          "execution_count": 272
        }
      ]
    },
    {
      "cell_type": "code",
      "metadata": {
        "id": "8da-RAv4PxzI",
        "colab_type": "code",
        "outputId": "09a4f3a7-e7f2-4b29-8b96-e241e69f4bf1",
        "colab": {
          "base_uri": "https://localhost:8080/",
          "height": 34
        }
      },
      "source": [
        "print(123123123123123123123123123123123123123123123123 + 1)"
      ],
      "execution_count": 0,
      "outputs": [
        {
          "output_type": "stream",
          "text": [
            "123123123123123123123123123123123123123123123124\n"
          ],
          "name": "stdout"
        }
      ]
    },
    {
      "cell_type": "markdown",
      "metadata": {
        "id": "4d_fFiJSOrOU",
        "colab_type": "text"
      },
      "source": [
        "## Floating-Point Numbers (float)"
      ]
    },
    {
      "cell_type": "code",
      "metadata": {
        "id": "rJJHdjE0Ox-g",
        "colab_type": "code",
        "outputId": "8dd880e1-e978-448e-941d-ee87636842d9",
        "colab": {
          "base_uri": "https://localhost:8080/",
          "height": 34
        }
      },
      "source": [
        "a=4.2\n",
        "a"
      ],
      "execution_count": 0,
      "outputs": [
        {
          "output_type": "execute_result",
          "data": {
            "text/plain": [
              "4.2"
            ]
          },
          "metadata": {
            "tags": []
          },
          "execution_count": 274
        }
      ]
    },
    {
      "cell_type": "code",
      "metadata": {
        "id": "ffg50ZSIOyEg",
        "colab_type": "code",
        "outputId": "c78a2764-652d-4cf4-dabc-1bcc8ba7e7aa",
        "colab": {
          "base_uri": "https://localhost:8080/",
          "height": 34
        }
      },
      "source": [
        "b=.2\n",
        "b"
      ],
      "execution_count": 0,
      "outputs": [
        {
          "output_type": "execute_result",
          "data": {
            "text/plain": [
              "0.2"
            ]
          },
          "metadata": {
            "tags": []
          },
          "execution_count": 275
        }
      ]
    },
    {
      "cell_type": "code",
      "metadata": {
        "id": "R8VjFcB3OyHI",
        "colab_type": "code",
        "outputId": "76e179de-72b9-498d-eeb6-0e59316ee958",
        "colab": {
          "base_uri": "https://localhost:8080/",
          "height": 34
        }
      },
      "source": [
        "c=.4e7\n",
        "c"
      ],
      "execution_count": 0,
      "outputs": [
        {
          "output_type": "execute_result",
          "data": {
            "text/plain": [
              "4000000.0"
            ]
          },
          "metadata": {
            "tags": []
          },
          "execution_count": 276
        }
      ]
    },
    {
      "cell_type": "code",
      "metadata": {
        "id": "S1B6CQrdOyJn",
        "colab_type": "code",
        "outputId": "280e34f1-1479-4df8-8deb-2544b73bfbc6",
        "colab": {
          "base_uri": "https://localhost:8080/",
          "height": 34
        }
      },
      "source": [
        "d=4.2e-4\n",
        "d"
      ],
      "execution_count": 0,
      "outputs": [
        {
          "output_type": "execute_result",
          "data": {
            "text/plain": [
              "0.00042"
            ]
          },
          "metadata": {
            "tags": []
          },
          "execution_count": 277
        }
      ]
    },
    {
      "cell_type": "code",
      "metadata": {
        "id": "4O0qsPJHOyMB",
        "colab_type": "code",
        "outputId": "99d141b1-5694-4c19-d98d-a1c75fb5d308",
        "colab": {
          "base_uri": "https://localhost:8080/",
          "height": 34
        }
      },
      "source": [
        "type(d)"
      ],
      "execution_count": 0,
      "outputs": [
        {
          "output_type": "execute_result",
          "data": {
            "text/plain": [
              "float"
            ]
          },
          "metadata": {
            "tags": []
          },
          "execution_count": 278
        }
      ]
    },
    {
      "cell_type": "markdown",
      "metadata": {
        "id": "xLXBN2X9PVPn",
        "colab_type": "text"
      },
      "source": [
        "## Booleans"
      ]
    },
    {
      "cell_type": "code",
      "metadata": {
        "id": "02jH7T_JPYnY",
        "colab_type": "code",
        "outputId": "fddbcb71-bbf2-4323-bc64-e60eacde0ca9",
        "colab": {
          "base_uri": "https://localhost:8080/",
          "height": 34
        }
      },
      "source": [
        "a=True\n",
        "a"
      ],
      "execution_count": 0,
      "outputs": [
        {
          "output_type": "execute_result",
          "data": {
            "text/plain": [
              "True"
            ]
          },
          "metadata": {
            "tags": []
          },
          "execution_count": 279
        }
      ]
    },
    {
      "cell_type": "code",
      "metadata": {
        "id": "SGSAuVBnPYp5",
        "colab_type": "code",
        "outputId": "46bf7bd7-1791-4e4e-f033-f8f30c5fa3e6",
        "colab": {
          "base_uri": "https://localhost:8080/",
          "height": 34
        }
      },
      "source": [
        "b=False\n",
        "b"
      ],
      "execution_count": 0,
      "outputs": [
        {
          "output_type": "execute_result",
          "data": {
            "text/plain": [
              "False"
            ]
          },
          "metadata": {
            "tags": []
          },
          "execution_count": 280
        }
      ]
    },
    {
      "cell_type": "code",
      "metadata": {
        "id": "omkmM1_2PYs1",
        "colab_type": "code",
        "outputId": "6f3ae2d6-8ed5-4cb6-e2e6-fcb162d06af1",
        "colab": {
          "base_uri": "https://localhost:8080/",
          "height": 34
        }
      },
      "source": [
        "type(b)"
      ],
      "execution_count": 0,
      "outputs": [
        {
          "output_type": "execute_result",
          "data": {
            "text/plain": [
              "bool"
            ]
          },
          "metadata": {
            "tags": []
          },
          "execution_count": 281
        }
      ]
    },
    {
      "cell_type": "markdown",
      "metadata": {
        "id": "-dA1r9ekQXOz",
        "colab_type": "text"
      },
      "source": [
        "## Comments"
      ]
    },
    {
      "cell_type": "code",
      "metadata": {
        "id": "x22dVC9CQaej",
        "colab_type": "code",
        "outputId": "d2ef1b40-313b-444e-a914-bf03a893796d",
        "colab": {
          "base_uri": "https://localhost:8080/",
          "height": 34
        }
      },
      "source": [
        "a=1 # This is a comment and will not run\n",
        "a"
      ],
      "execution_count": 0,
      "outputs": [
        {
          "output_type": "execute_result",
          "data": {
            "text/plain": [
              "1"
            ]
          },
          "metadata": {
            "tags": []
          },
          "execution_count": 282
        }
      ]
    },
    {
      "cell_type": "code",
      "metadata": {
        "id": "TaMnAXMFQgbV",
        "colab_type": "code",
        "colab": {}
      },
      "source": [
        "\"\"\"\n",
        "This is a\n",
        "multiline comment\n",
        "and will not run\n",
        "\"\"\"\n",
        "a=1"
      ],
      "execution_count": 0,
      "outputs": []
    },
    {
      "cell_type": "markdown",
      "metadata": {
        "id": "BHxlAxZwQ1QU",
        "colab_type": "text"
      },
      "source": [
        "## Scripts"
      ]
    },
    {
      "cell_type": "code",
      "metadata": {
        "id": "V-Pc1CbsQxCS",
        "colab_type": "code",
        "outputId": "7498e9e7-2849-4522-d154-940999bb9bc0",
        "colab": {
          "base_uri": "https://localhost:8080/",
          "height": 34
        }
      },
      "source": [
        "def main():\n",
        "  print('Called main()')\n",
        "  \n",
        "if __name__ == '__main__':  # Entry point\n",
        "  main()"
      ],
      "execution_count": 0,
      "outputs": [
        {
          "output_type": "stream",
          "text": [
            "Called main()\n"
          ],
          "name": "stdout"
        }
      ]
    },
    {
      "cell_type": "markdown",
      "metadata": {
        "id": "rIS9qSwKQ7AI",
        "colab_type": "text"
      },
      "source": [
        "## Lists"
      ]
    },
    {
      "cell_type": "code",
      "metadata": {
        "id": "-hqyhKHJRAZk",
        "colab_type": "code",
        "outputId": "5cfae558-de8b-40dd-abe2-d84b4a9d2f10",
        "colab": {
          "base_uri": "https://localhost:8080/",
          "height": 34
        }
      },
      "source": [
        "names = [\"Aaron\", \"Beth\", \"George\"]\n",
        "names"
      ],
      "execution_count": 0,
      "outputs": [
        {
          "output_type": "execute_result",
          "data": {
            "text/plain": [
              "['Aaron', 'Beth', 'George']"
            ]
          },
          "metadata": {
            "tags": []
          },
          "execution_count": 285
        }
      ]
    },
    {
      "cell_type": "code",
      "metadata": {
        "id": "YneqDBTpRG5Y",
        "colab_type": "code",
        "outputId": "e3e1bdb3-d1a7-465b-8b5e-db3da19abaaa",
        "colab": {
          "base_uri": "https://localhost:8080/",
          "height": 34
        }
      },
      "source": [
        "len(names)"
      ],
      "execution_count": 0,
      "outputs": [
        {
          "output_type": "execute_result",
          "data": {
            "text/plain": [
              "3"
            ]
          },
          "metadata": {
            "tags": []
          },
          "execution_count": 286
        }
      ]
    },
    {
      "cell_type": "markdown",
      "metadata": {
        "id": "AyvFlge3Sv-8",
        "colab_type": "text"
      },
      "source": [
        "**Access Items**"
      ]
    },
    {
      "cell_type": "code",
      "metadata": {
        "id": "iAxoaONSSvjb",
        "colab_type": "code",
        "outputId": "bfc52728-f39a-4f03-c9b2-993388fbd208",
        "colab": {
          "base_uri": "https://localhost:8080/",
          "height": 68
        }
      },
      "source": [
        "print(names[0])\n",
        "print(names[1])\n",
        "print(names[2])\n",
        "#print(names[3]) # ???"
      ],
      "execution_count": 0,
      "outputs": [
        {
          "output_type": "stream",
          "text": [
            "Aaron\n",
            "Beth\n",
            "George\n"
          ],
          "name": "stdout"
        }
      ]
    },
    {
      "cell_type": "markdown",
      "metadata": {
        "id": "s6TNZgXnS7zi",
        "colab_type": "text"
      },
      "source": [
        "**Negative Indexing**"
      ]
    },
    {
      "cell_type": "code",
      "metadata": {
        "id": "vf1tOlOtTDAN",
        "colab_type": "code",
        "outputId": "ab2eace9-2c78-492b-9a8c-c3363ae434aa",
        "colab": {
          "base_uri": "https://localhost:8080/",
          "height": 51
        }
      },
      "source": [
        "print(names[-1])\n",
        "print(names[-2])"
      ],
      "execution_count": 0,
      "outputs": [
        {
          "output_type": "stream",
          "text": [
            "George\n",
            "Beth\n"
          ],
          "name": "stdout"
        }
      ]
    },
    {
      "cell_type": "markdown",
      "metadata": {
        "id": "-fioRzMoTLx8",
        "colab_type": "text"
      },
      "source": [
        "**Add an item**"
      ]
    },
    {
      "cell_type": "code",
      "metadata": {
        "id": "8ND5ChzYTIZj",
        "colab_type": "code",
        "outputId": "a1f7c89f-53a1-4983-aa8c-760bea14051a",
        "colab": {
          "base_uri": "https://localhost:8080/",
          "height": 34
        }
      },
      "source": [
        "names = [\"Aaron\", \"Beth\", \"George\"]\n",
        "names.append(\"Dereck\")\n",
        "print(names)"
      ],
      "execution_count": 0,
      "outputs": [
        {
          "output_type": "stream",
          "text": [
            "['Aaron', 'Beth', 'George', 'Dereck']\n"
          ],
          "name": "stdout"
        }
      ]
    },
    {
      "cell_type": "markdown",
      "metadata": {
        "id": "UfrFme4ATaVE",
        "colab_type": "text"
      },
      "source": [
        "**Add an item at specified index**"
      ]
    },
    {
      "cell_type": "code",
      "metadata": {
        "id": "UC6bWi9xTcUv",
        "colab_type": "code",
        "outputId": "78adb582-7a53-4e8f-e247-3abbd6fc5977",
        "colab": {
          "base_uri": "https://localhost:8080/",
          "height": 34
        }
      },
      "source": [
        "names = [\"Aaron\", \"Beth\", \"George\"]\n",
        "names.insert(1, \"Mia\")\n",
        "print(names)"
      ],
      "execution_count": 0,
      "outputs": [
        {
          "output_type": "stream",
          "text": [
            "['Aaron', 'Mia', 'Beth', 'George']\n"
          ],
          "name": "stdout"
        }
      ]
    },
    {
      "cell_type": "markdown",
      "metadata": {
        "id": "ufLJfFHwTg5b",
        "colab_type": "text"
      },
      "source": [
        "**Remove an item**"
      ]
    },
    {
      "cell_type": "code",
      "metadata": {
        "id": "-7_cVH3-Tlg7",
        "colab_type": "code",
        "outputId": "38d9b82b-9ca7-4a11-a0b7-f9d0c01b6937",
        "colab": {
          "base_uri": "https://localhost:8080/",
          "height": 34
        }
      },
      "source": [
        "names = [\"Aaron\", \"Beth\", \"George\"]\n",
        "names.remove('Aaron')\n",
        "print(names)"
      ],
      "execution_count": 0,
      "outputs": [
        {
          "output_type": "stream",
          "text": [
            "['Beth', 'George']\n"
          ],
          "name": "stdout"
        }
      ]
    },
    {
      "cell_type": "markdown",
      "metadata": {
        "id": "APhep50mTpPZ",
        "colab_type": "text"
      },
      "source": [
        "**Clear a list**"
      ]
    },
    {
      "cell_type": "code",
      "metadata": {
        "id": "3CFjnfb4T2Vt",
        "colab_type": "code",
        "outputId": "059a8b55-71df-4ada-ab68-e4c88e4687b2",
        "colab": {
          "base_uri": "https://localhost:8080/",
          "height": 34
        }
      },
      "source": [
        "names = [\"Aaron\", \"Beth\", \"George\"]\n",
        "names.clear()\n",
        "print(names)"
      ],
      "execution_count": 0,
      "outputs": [
        {
          "output_type": "stream",
          "text": [
            "[]\n"
          ],
          "name": "stdout"
        }
      ]
    },
    {
      "cell_type": "markdown",
      "metadata": {
        "id": "HFCYADV9T9RU",
        "colab_type": "text"
      },
      "source": [
        "## Tuples"
      ]
    },
    {
      "cell_type": "code",
      "metadata": {
        "id": "apvLPzvZT_sZ",
        "colab_type": "code",
        "outputId": "2d58a147-c7b7-4802-c0fe-77749bfebabf",
        "colab": {
          "base_uri": "https://localhost:8080/",
          "height": 34
        }
      },
      "source": [
        "names = (\"Aaron\", \"Beth\", \"George\")\n",
        "print(names)"
      ],
      "execution_count": 0,
      "outputs": [
        {
          "output_type": "stream",
          "text": [
            "('Aaron', 'Beth', 'George')\n"
          ],
          "name": "stdout"
        }
      ]
    },
    {
      "cell_type": "markdown",
      "metadata": {
        "id": "77f6CjhqULsl",
        "colab_type": "text"
      },
      "source": [
        "## Dictionaries\n"
      ]
    },
    {
      "cell_type": "code",
      "metadata": {
        "id": "QCC_gotXUP1V",
        "colab_type": "code",
        "outputId": "42657da5-471d-429c-fda2-1e6ff392042b",
        "colab": {
          "base_uri": "https://localhost:8080/",
          "height": 34
        }
      },
      "source": [
        "person = {\n",
        "  \"name\": \"Aaron\",\n",
        "  \"age\": 32,\n",
        "  \"title\": \"Mr\"\n",
        "}\n",
        "print(person)"
      ],
      "execution_count": 0,
      "outputs": [
        {
          "output_type": "stream",
          "text": [
            "{'name': 'Aaron', 'age': 32, 'title': 'Mr'}\n"
          ],
          "name": "stdout"
        }
      ]
    },
    {
      "cell_type": "markdown",
      "metadata": {
        "id": "L2taixCFUuYy",
        "colab_type": "text"
      },
      "source": [
        "**Accessing Items**"
      ]
    },
    {
      "cell_type": "code",
      "metadata": {
        "id": "DMgiNOnrUsxc",
        "colab_type": "code",
        "outputId": "e7c8b921-36c6-4b7a-a876-48e79d6051c5",
        "colab": {
          "base_uri": "https://localhost:8080/",
          "height": 68
        }
      },
      "source": [
        "print(person[\"name\"])\n",
        "print(person.get(\"name\"))\n",
        "print(person.get(\"x\", \"default if x does not exist\"))"
      ],
      "execution_count": 0,
      "outputs": [
        {
          "output_type": "stream",
          "text": [
            "Aaron\n",
            "Aaron\n",
            "default if x does not exist\n"
          ],
          "name": "stdout"
        }
      ]
    },
    {
      "cell_type": "markdown",
      "metadata": {
        "id": "wMlW_3IqtV6E",
        "colab_type": "text"
      },
      "source": [
        "**Get list of keys**"
      ]
    },
    {
      "cell_type": "code",
      "metadata": {
        "id": "Kpu5IT24tVqN",
        "colab_type": "code",
        "outputId": "3d313310-2c0c-4a6a-b87c-ee9e74384289",
        "colab": {
          "base_uri": "https://localhost:8080/",
          "height": 34
        }
      },
      "source": [
        "print(person.keys())"
      ],
      "execution_count": 0,
      "outputs": [
        {
          "output_type": "stream",
          "text": [
            "dict_keys(['name', 'age', 'title'])\n"
          ],
          "name": "stdout"
        }
      ]
    },
    {
      "cell_type": "markdown",
      "metadata": {
        "id": "MOU0hlkCtehf",
        "colab_type": "text"
      },
      "source": [
        "**Get a list of values**"
      ]
    },
    {
      "cell_type": "code",
      "metadata": {
        "id": "1Z5TOvi9teoi",
        "colab_type": "code",
        "outputId": "37eeb7b0-2c3c-4762-c3ca-37cdaa712bed",
        "colab": {
          "base_uri": "https://localhost:8080/",
          "height": 34
        }
      },
      "source": [
        "print(person.values())"
      ],
      "execution_count": 0,
      "outputs": [
        {
          "output_type": "stream",
          "text": [
            "dict_values(['Aaron', 32, 'Mr'])\n"
          ],
          "name": "stdout"
        }
      ]
    },
    {
      "cell_type": "markdown",
      "metadata": {
        "id": "SgsgIsLSU8U8",
        "colab_type": "text"
      },
      "source": [
        "**Change Values**"
      ]
    },
    {
      "cell_type": "code",
      "metadata": {
        "id": "jHc3TLbCU9Nt",
        "colab_type": "code",
        "outputId": "05b8266a-8189-4df1-82c1-5593c43be138",
        "colab": {
          "base_uri": "https://localhost:8080/",
          "height": 34
        }
      },
      "source": [
        "person[\"name\"]=\"Beth\"\n",
        "person[\"age\"]=29\n",
        "person[\"title\"]=\"Miss\"\n",
        "print(person)"
      ],
      "execution_count": 0,
      "outputs": [
        {
          "output_type": "stream",
          "text": [
            "{'name': 'Beth', 'age': 29, 'title': 'Miss'}\n"
          ],
          "name": "stdout"
        }
      ]
    },
    {
      "cell_type": "markdown",
      "metadata": {
        "id": "UE1RUr_ZVDmc",
        "colab_type": "text"
      },
      "source": [
        "**Check if Key Exists**"
      ]
    },
    {
      "cell_type": "code",
      "metadata": {
        "id": "-2LHzEJvVDO4",
        "colab_type": "code",
        "outputId": "11a9e7bf-aca1-41f1-bef7-25ef73d62bdd",
        "colab": {
          "base_uri": "https://localhost:8080/",
          "height": 34
        }
      },
      "source": [
        "if \"name\" in person:\n",
        "    print(\"Yes, 'name' is one of the keys in the person dictionary\")\n",
        "else:\n",
        "    print(\"No, 'name' is not one of the keys in the person dictionary\")"
      ],
      "execution_count": 0,
      "outputs": [
        {
          "output_type": "stream",
          "text": [
            "Yes, 'name' is one of the keys in the person dictionary\n"
          ],
          "name": "stdout"
        }
      ]
    },
    {
      "cell_type": "markdown",
      "metadata": {
        "id": "FYPD27BjVLLs",
        "colab_type": "text"
      },
      "source": [
        "**Adding Items**"
      ]
    },
    {
      "cell_type": "code",
      "metadata": {
        "id": "gwfMdQntVNkr",
        "colab_type": "code",
        "outputId": "1af8dbb8-960c-4224-d392-69ae554c7e03",
        "colab": {
          "base_uri": "https://localhost:8080/",
          "height": 34
        }
      },
      "source": [
        "person = {\n",
        "  \"name\": \"Aaron\",\n",
        "  \"age\": 32,\n",
        "  \"title\": \"Mr\"\n",
        "}\n",
        "person[\"job\"]=\"Research Software Engineer\"\n",
        "print(person)"
      ],
      "execution_count": 0,
      "outputs": [
        {
          "output_type": "stream",
          "text": [
            "{'name': 'Aaron', 'age': 32, 'title': 'Mr', 'job': 'Research Software Engineer'}\n"
          ],
          "name": "stdout"
        }
      ]
    },
    {
      "cell_type": "markdown",
      "metadata": {
        "id": "nKT6Tqw5VVRn",
        "colab_type": "text"
      },
      "source": [
        "**Removing Items**"
      ]
    },
    {
      "cell_type": "code",
      "metadata": {
        "id": "H-9UzYVXVWZp",
        "colab_type": "code",
        "outputId": "61104c3f-d33e-4088-c5c5-595f12fa40f3",
        "colab": {
          "base_uri": "https://localhost:8080/",
          "height": 34
        }
      },
      "source": [
        "person.pop(\"age\")\n",
        "print(person)"
      ],
      "execution_count": 0,
      "outputs": [
        {
          "output_type": "stream",
          "text": [
            "{'name': 'Aaron', 'title': 'Mr', 'job': 'Research Software Engineer'}\n"
          ],
          "name": "stdout"
        }
      ]
    },
    {
      "cell_type": "markdown",
      "metadata": {
        "id": "OwwGKMBHVZVW",
        "colab_type": "text"
      },
      "source": [
        "**Nested**"
      ]
    },
    {
      "cell_type": "code",
      "metadata": {
        "id": "-HekXUUqVaou",
        "colab_type": "code",
        "outputId": "70c0c31c-f997-44d3-8a5c-6d7a486bec52",
        "colab": {
          "base_uri": "https://localhost:8080/",
          "height": 68
        }
      },
      "source": [
        "pets = {\n",
        "  \"mia\": {\n",
        "    \"age\": 4,\n",
        "  },\n",
        "  \"boy cat\" : {\n",
        "    \"age\": 9\n",
        "  },\n",
        "  \"girl cat\" : {\n",
        "    \"age\": 9\n",
        "  }\n",
        "}\n",
        "print(pets)\n",
        "print(pets[\"mia\"])\n",
        "print(pets[\"mia\"][\"age\"])"
      ],
      "execution_count": 0,
      "outputs": [
        {
          "output_type": "stream",
          "text": [
            "{'mia': {'age': 4}, 'boy cat': {'age': 9}, 'girl cat': {'age': 9}}\n",
            "{'age': 4}\n",
            "4\n"
          ],
          "name": "stdout"
        }
      ]
    },
    {
      "cell_type": "markdown",
      "metadata": {
        "id": "b97sTOFv6gnO",
        "colab_type": "text"
      },
      "source": [
        "## Read data from files"
      ]
    },
    {
      "cell_type": "code",
      "metadata": {
        "id": "NnpMtGV56mQx",
        "colab_type": "code",
        "outputId": "d85d0120-b097-414f-be15-527c06ebfa36",
        "colab": {
          "base_uri": "https://localhost:8080/",
          "height": 85
        }
      },
      "source": [
        "data=[]\n",
        "\n",
        "with open('data.txt', 'r') as data_file:\n",
        "  for line in data_file:\n",
        "    line = line.strip() # Remove newline character\n",
        "    print(f\"Add '{line}' to the data list\")\n",
        "    data.append(line)\n",
        "\n",
        "print(data)"
      ],
      "execution_count": 0,
      "outputs": [
        {
          "output_type": "stream",
          "text": [
            "Add 'Aaron' to the data list\n",
            "Add '32' to the data list\n",
            "Add 'Male' to the data list\n",
            "['Aaron', '32', 'Male']\n"
          ],
          "name": "stdout"
        }
      ]
    },
    {
      "cell_type": "markdown",
      "metadata": {
        "id": "R1PRkOio67xw",
        "colab_type": "text"
      },
      "source": [
        "## Write data to files"
      ]
    },
    {
      "cell_type": "code",
      "metadata": {
        "id": "Ai9j5eXe69q6",
        "colab_type": "code",
        "outputId": "ae487a5d-b356-4c91-db3b-0071f0dffd4e",
        "colab": {
          "base_uri": "https://localhost:8080/",
          "height": 34
        }
      },
      "source": [
        "data=['Aaron','Beth', 'George']\n",
        "\n",
        "with open('name-list.txt', 'w+') as data_file:\n",
        "  for item in data:\n",
        "    data_file.write(item + '\\n')\n",
        "\n",
        "print(data)"
      ],
      "execution_count": 0,
      "outputs": [
        {
          "output_type": "stream",
          "text": [
            "['Aaron', 'Beth', 'George']\n"
          ],
          "name": "stdout"
        }
      ]
    },
    {
      "cell_type": "markdown",
      "metadata": {
        "id": "EkXCyUQx8JNx",
        "colab_type": "text"
      },
      "source": [
        "## Read, Update, Write"
      ]
    },
    {
      "cell_type": "code",
      "metadata": {
        "id": "qP92LEHN8LUU",
        "colab_type": "code",
        "outputId": "7c1cc017-0214-44c8-ba5e-542d4e27f385",
        "colab": {
          "base_uri": "https://localhost:8080/",
          "height": 187
        }
      },
      "source": [
        "filename_input = 'planets.txt'\n",
        "filename_output = 'planets-reversed.txt'\n",
        "\n",
        "data=[]\n",
        "\n",
        "# Read data from the input file\n",
        "with open(filename_input, 'r') as data_file:\n",
        "  for line in data_file:\n",
        "    line = line.strip() # Remove newline character\n",
        "    print(f\"Add '{line}' to the data list\")\n",
        "    data.append(line)\n",
        "\n",
        "# Check we have the data\n",
        "print(data)\n",
        "\n",
        "# For each data item, reverse the string\n",
        "for i in range(len(data)):\n",
        "  data[i]=''.join(reversed(data[i]))\n",
        "\n",
        "print(data)\n",
        "\n",
        "# Write data to the output file\n",
        "with open(filename_output, 'w+') as data_file:\n",
        "  for item in data:\n",
        "    data_file.write(item + '\\n')\n"
      ],
      "execution_count": 0,
      "outputs": [
        {
          "output_type": "stream",
          "text": [
            "Add 'Mercury' to the data list\n",
            "Add 'Venus' to the data list\n",
            "Add 'Earth' to the data list\n",
            "Add 'Mars' to the data list\n",
            "Add 'Jupiter' to the data list\n",
            "Add 'Saturn' to the data list\n",
            "Add 'Uranus' to the data list\n",
            "Add 'Neptune' to the data list\n",
            "['Mercury', 'Venus', 'Earth', 'Mars', 'Jupiter', 'Saturn', 'Uranus', 'Neptune']\n",
            "['yrucreM', 'suneV', 'htraE', 'sraM', 'retipuJ', 'nrutaS', 'sunarU', 'enutpeN']\n"
          ],
          "name": "stdout"
        }
      ]
    },
    {
      "cell_type": "markdown",
      "metadata": {
        "id": "uNEQ60w_XWkn",
        "colab_type": "text"
      },
      "source": [
        "## Conditional Statements"
      ]
    },
    {
      "cell_type": "markdown",
      "metadata": {
        "id": "JeIuatNEW_Bx",
        "colab_type": "text"
      },
      "source": [
        "**if**"
      ]
    },
    {
      "cell_type": "code",
      "metadata": {
        "id": "mUHm17y6XGTt",
        "colab_type": "code",
        "outputId": "f5f9fc5e-dc4b-40fc-a036-9f7832d84bfd",
        "colab": {
          "base_uri": "https://localhost:8080/",
          "height": 34
        }
      },
      "source": [
        "a = 33\n",
        "b = 200\n",
        "if b > a:\n",
        "  print(\"b is greater than a\")"
      ],
      "execution_count": 0,
      "outputs": [
        {
          "output_type": "stream",
          "text": [
            "b is greater than a\n"
          ],
          "name": "stdout"
        }
      ]
    },
    {
      "cell_type": "markdown",
      "metadata": {
        "id": "8n4PXnJFXK6g",
        "colab_type": "text"
      },
      "source": [
        "**elif**"
      ]
    },
    {
      "cell_type": "code",
      "metadata": {
        "id": "PpQziczSXNfb",
        "colab_type": "code",
        "outputId": "d83b2324-a12d-493c-c69e-da86cebd7d82",
        "colab": {
          "base_uri": "https://localhost:8080/",
          "height": 34
        }
      },
      "source": [
        "a = 33\n",
        "b = 33\n",
        "if b > a:\n",
        "  print(\"b is greater than a\")\n",
        "elif a == b:\n",
        "  print(\"a and b are equal\")"
      ],
      "execution_count": 0,
      "outputs": [
        {
          "output_type": "stream",
          "text": [
            "a and b are equal\n"
          ],
          "name": "stdout"
        }
      ]
    },
    {
      "cell_type": "markdown",
      "metadata": {
        "id": "43RGVq2yXO6u",
        "colab_type": "text"
      },
      "source": [
        "**else**"
      ]
    },
    {
      "cell_type": "code",
      "metadata": {
        "id": "IWT2EoNaXQwY",
        "colab_type": "code",
        "outputId": "2ef5a2ad-0c2a-48f2-f0cc-137cf5b5d94d",
        "colab": {
          "base_uri": "https://localhost:8080/",
          "height": 34
        }
      },
      "source": [
        "a = 200\n",
        "b = 33\n",
        "if b > a:\n",
        "  print(\"b is greater than a\")\n",
        "elif a == b:\n",
        "  print(\"a and b are equal\")\n",
        "else:\n",
        "  print(\"a is greater than b\")"
      ],
      "execution_count": 0,
      "outputs": [
        {
          "output_type": "stream",
          "text": [
            "a is greater than b\n"
          ],
          "name": "stdout"
        }
      ]
    },
    {
      "cell_type": "markdown",
      "metadata": {
        "id": "sl_d80LpXa_F",
        "colab_type": "text"
      },
      "source": [
        "**and**"
      ]
    },
    {
      "cell_type": "code",
      "metadata": {
        "id": "czbNxLtPXd46",
        "colab_type": "code",
        "outputId": "f6342ee3-84aa-4e88-9192-661fd96385c3",
        "colab": {
          "base_uri": "https://localhost:8080/",
          "height": 34
        }
      },
      "source": [
        "a = 200\n",
        "b = 33\n",
        "c = 500\n",
        "if a > b and c > a:\n",
        "  print(\"Both conditions are True\")"
      ],
      "execution_count": 0,
      "outputs": [
        {
          "output_type": "stream",
          "text": [
            "Both conditions are True\n"
          ],
          "name": "stdout"
        }
      ]
    },
    {
      "cell_type": "markdown",
      "metadata": {
        "id": "SwwqgVHNXgAP",
        "colab_type": "text"
      },
      "source": [
        "**or**"
      ]
    },
    {
      "cell_type": "code",
      "metadata": {
        "id": "5W2O28lnXiT-",
        "colab_type": "code",
        "outputId": "52ba235f-93e8-4f2b-fcdc-94a064c9d058",
        "colab": {
          "base_uri": "https://localhost:8080/",
          "height": 34
        }
      },
      "source": [
        "a = 200\n",
        "b = 33\n",
        "c = 500\n",
        "if a > b or a > c:\n",
        "  print(\"At least one of the conditions is True\")"
      ],
      "execution_count": 0,
      "outputs": [
        {
          "output_type": "stream",
          "text": [
            "At least one of the conditions is True\n"
          ],
          "name": "stdout"
        }
      ]
    },
    {
      "cell_type": "markdown",
      "metadata": {
        "id": "GPKdrKfOXkre",
        "colab_type": "text"
      },
      "source": [
        "## For Loops"
      ]
    },
    {
      "cell_type": "markdown",
      "metadata": {
        "id": "GeD6D-WxXtFO",
        "colab_type": "text"
      },
      "source": [
        "**Loop through a list**"
      ]
    },
    {
      "cell_type": "code",
      "metadata": {
        "id": "o_SOQ7t1Xnos",
        "colab_type": "code",
        "outputId": "dcf89b3a-d584-4947-8953-1ab123bdfc53",
        "colab": {
          "base_uri": "https://localhost:8080/",
          "height": 68
        }
      },
      "source": [
        "fruits = [\"apple\", \"banana\", \"cherry\"]\n",
        "for x in fruits:\n",
        "  print(x)"
      ],
      "execution_count": 0,
      "outputs": [
        {
          "output_type": "stream",
          "text": [
            "apple\n",
            "banana\n",
            "cherry\n"
          ],
          "name": "stdout"
        }
      ]
    },
    {
      "cell_type": "markdown",
      "metadata": {
        "id": "yGbLBEy5Yfhb",
        "colab_type": "text"
      },
      "source": [
        "**Loop through a string**"
      ]
    },
    {
      "cell_type": "code",
      "metadata": {
        "id": "pHqAEHBVYmpM",
        "colab_type": "code",
        "outputId": "dcb2b020-5b44-40e5-8408-02608456a229",
        "colab": {
          "base_uri": "https://localhost:8080/",
          "height": 119
        }
      },
      "source": [
        "for x in \"banana\":\n",
        "  print(x)"
      ],
      "execution_count": 0,
      "outputs": [
        {
          "output_type": "stream",
          "text": [
            "b\n",
            "a\n",
            "n\n",
            "a\n",
            "n\n",
            "a\n"
          ],
          "name": "stdout"
        }
      ]
    },
    {
      "cell_type": "markdown",
      "metadata": {
        "id": "fUXPceFhYqn0",
        "colab_type": "text"
      },
      "source": [
        "**break**"
      ]
    },
    {
      "cell_type": "code",
      "metadata": {
        "id": "ROFPHAwhYujn",
        "colab_type": "code",
        "outputId": "0dae38bf-0e64-41bb-c67d-4e935bd6821e",
        "colab": {
          "base_uri": "https://localhost:8080/",
          "height": 51
        }
      },
      "source": [
        "fruits = [\"apple\", \"banana\", \"cherry\"]\n",
        "for x in fruits:\n",
        "  print(x)\n",
        "  if x == \"banana\":\n",
        "    break"
      ],
      "execution_count": 0,
      "outputs": [
        {
          "output_type": "stream",
          "text": [
            "apple\n",
            "banana\n"
          ],
          "name": "stdout"
        }
      ]
    },
    {
      "cell_type": "markdown",
      "metadata": {
        "id": "vnrYxGVOZFrY",
        "colab_type": "text"
      },
      "source": [
        "**continue**"
      ]
    },
    {
      "cell_type": "code",
      "metadata": {
        "id": "SkaHHJ2XZHBD",
        "colab_type": "code",
        "outputId": "86dcbe33-b2ee-4c5d-df09-452f5014f809",
        "colab": {
          "base_uri": "https://localhost:8080/",
          "height": 51
        }
      },
      "source": [
        "fruits = [\"apple\", \"banana\", \"cherry\"]\n",
        "for x in fruits:\n",
        "  if x == \"banana\":\n",
        "    continue\n",
        "  print(x)"
      ],
      "execution_count": 0,
      "outputs": [
        {
          "output_type": "stream",
          "text": [
            "apple\n",
            "cherry\n"
          ],
          "name": "stdout"
        }
      ]
    },
    {
      "cell_type": "markdown",
      "metadata": {
        "id": "00T-JeIUZI0M",
        "colab_type": "text"
      },
      "source": [
        "**range**"
      ]
    },
    {
      "cell_type": "code",
      "metadata": {
        "id": "z39-fBXVZLvq",
        "colab_type": "code",
        "outputId": "2b6ef750-c45d-4d41-e007-4280bb01af2e",
        "colab": {
          "base_uri": "https://localhost:8080/",
          "height": 119
        }
      },
      "source": [
        "for x in range(6):\n",
        "  print(x)"
      ],
      "execution_count": 0,
      "outputs": [
        {
          "output_type": "stream",
          "text": [
            "0\n",
            "1\n",
            "2\n",
            "3\n",
            "4\n",
            "5\n"
          ],
          "name": "stdout"
        }
      ]
    },
    {
      "cell_type": "code",
      "metadata": {
        "id": "gtG8Osh7ZOVz",
        "colab_type": "code",
        "outputId": "f396a9e4-cc42-4a34-df86-f7699c06abd2",
        "colab": {
          "base_uri": "https://localhost:8080/",
          "height": 34
        }
      },
      "source": [
        "for n in range(10):\n",
        "  print(n, end=(' ' if n < 9 else '\\n'))"
      ],
      "execution_count": 0,
      "outputs": [
        {
          "output_type": "stream",
          "text": [
            "0 1 2 3 4 5 6 7 8 9\n"
          ],
          "name": "stdout"
        }
      ]
    },
    {
      "cell_type": "markdown",
      "metadata": {
        "id": "T5X3VEOvZSmc",
        "colab_type": "text"
      },
      "source": [
        "**else**"
      ]
    },
    {
      "cell_type": "code",
      "metadata": {
        "id": "nT975Un8ZWnt",
        "colab_type": "code",
        "outputId": "8e5f5106-e3db-49cd-b33e-60efdadae5ca",
        "colab": {
          "base_uri": "https://localhost:8080/",
          "height": 136
        }
      },
      "source": [
        "for x in range(6):\n",
        "  print(x)\n",
        "else:\n",
        "  print(\"Finally finished!\")"
      ],
      "execution_count": 0,
      "outputs": [
        {
          "output_type": "stream",
          "text": [
            "0\n",
            "1\n",
            "2\n",
            "3\n",
            "4\n",
            "5\n",
            "Finally finished!\n"
          ],
          "name": "stdout"
        }
      ]
    },
    {
      "cell_type": "markdown",
      "metadata": {
        "id": "0M5GVWFgZaG-",
        "colab_type": "text"
      },
      "source": [
        "**Loop through a dictionary**"
      ]
    },
    {
      "cell_type": "code",
      "metadata": {
        "id": "zT1TG7E0ZgcV",
        "colab_type": "code",
        "outputId": "77718398-38c9-473d-8262-292537e18c54",
        "colab": {
          "base_uri": "https://localhost:8080/",
          "height": 68
        }
      },
      "source": [
        "person = {\n",
        "  \"name\": \"Aaron\",\n",
        "  \"age\": 32,\n",
        "  \"title\": \"Mr\"\n",
        "}\n",
        "for x, y in person.items():\n",
        "  print(x, y)"
      ],
      "execution_count": 0,
      "outputs": [
        {
          "output_type": "stream",
          "text": [
            "name Aaron\n",
            "age 32\n",
            "title Mr\n"
          ],
          "name": "stdout"
        }
      ]
    },
    {
      "cell_type": "markdown",
      "metadata": {
        "id": "VWg7VK1wuwCD",
        "colab_type": "text"
      },
      "source": [
        "## Functions"
      ]
    },
    {
      "cell_type": "markdown",
      "metadata": {
        "id": "lkBbNgMlv0m4",
        "colab_type": "text"
      },
      "source": [
        "**Simple function**"
      ]
    },
    {
      "cell_type": "code",
      "metadata": {
        "id": "TjTfMalBvz_M",
        "colab_type": "code",
        "outputId": "f60646b4-f03a-4d3d-965b-475d8e42cd48",
        "colab": {
          "base_uri": "https://localhost:8080/",
          "height": 34
        }
      },
      "source": [
        "def test_function():\n",
        "  print(\"Hello from test_function\")\n",
        "  \n",
        "test_function()"
      ],
      "execution_count": 0,
      "outputs": [
        {
          "output_type": "stream",
          "text": [
            "Hello from test_function\n"
          ],
          "name": "stdout"
        }
      ]
    },
    {
      "cell_type": "markdown",
      "metadata": {
        "id": "l3Ql9TTQv9Ch",
        "colab_type": "text"
      },
      "source": [
        "**Function parameters**"
      ]
    },
    {
      "cell_type": "code",
      "metadata": {
        "id": "CVTyNoGVwA_7",
        "colab_type": "code",
        "outputId": "2861b2b3-b590-47c9-c796-68c00405eab8",
        "colab": {
          "base_uri": "https://localhost:8080/",
          "height": 68
        }
      },
      "source": [
        "def test_function(name):\n",
        "  print(name + \" Owen\")\n",
        "  \n",
        "test_function(\"Aaron\")\n",
        "test_function(\"Beth\")\n",
        "test_function(\"George\")"
      ],
      "execution_count": 0,
      "outputs": [
        {
          "output_type": "stream",
          "text": [
            "Aaron Owen\n",
            "Beth Owen\n",
            "George Owen\n"
          ],
          "name": "stdout"
        }
      ]
    },
    {
      "cell_type": "markdown",
      "metadata": {
        "id": "TBW0862kwE6f",
        "colab_type": "text"
      },
      "source": [
        "**Default parameter values**"
      ]
    },
    {
      "cell_type": "code",
      "metadata": {
        "id": "UC5OuduIwFAo",
        "colab_type": "code",
        "outputId": "4c53da8c-5205-4c4f-f001-0ab322436b6b",
        "colab": {
          "base_uri": "https://localhost:8080/",
          "height": 85
        }
      },
      "source": [
        "def test_function(country = \"Norway\"):\n",
        "  print(\"I am from \" + country)\n",
        "\n",
        "test_function(\"Sweden\")\n",
        "test_function(\"India\")\n",
        "test_function()\n",
        "test_function(\"Brazil\")"
      ],
      "execution_count": 0,
      "outputs": [
        {
          "output_type": "stream",
          "text": [
            "I am from Sweden\n",
            "I am from India\n",
            "I am from Norway\n",
            "I am from Brazil\n"
          ],
          "name": "stdout"
        }
      ]
    },
    {
      "cell_type": "markdown",
      "metadata": {
        "id": "sObLZeZ3wPnk",
        "colab_type": "text"
      },
      "source": [
        "**Pass a list as a parameter**"
      ]
    },
    {
      "cell_type": "code",
      "metadata": {
        "id": "cHlWcT6KwPvK",
        "colab_type": "code",
        "outputId": "c2099857-8e2a-4113-abc7-bfe8789251c4",
        "colab": {
          "base_uri": "https://localhost:8080/",
          "height": 68
        }
      },
      "source": [
        "def test_function(food):\n",
        "  for x in food:\n",
        "    print(x)\n",
        "\n",
        "fruits = [\"apple\", \"banana\", \"cherry\"]\n",
        "test_function(fruits)"
      ],
      "execution_count": 0,
      "outputs": [
        {
          "output_type": "stream",
          "text": [
            "apple\n",
            "banana\n",
            "cherry\n"
          ],
          "name": "stdout"
        }
      ]
    },
    {
      "cell_type": "markdown",
      "metadata": {
        "id": "1XccvBP2waC8",
        "colab_type": "text"
      },
      "source": [
        "**Return values**"
      ]
    },
    {
      "cell_type": "code",
      "metadata": {
        "id": "2rks3PbCwaKI",
        "colab_type": "code",
        "outputId": "c663b056-5ddd-41f7-ad17-f2185b30fcdb",
        "colab": {
          "base_uri": "https://localhost:8080/",
          "height": 68
        }
      },
      "source": [
        "def test_function(x):\n",
        "  return(5 * x)\n",
        "  \n",
        "print(test_function(3))\n",
        "print(test_function(5))\n",
        "print(test_function(9))"
      ],
      "execution_count": 0,
      "outputs": [
        {
          "output_type": "stream",
          "text": [
            "15\n",
            "25\n",
            "45\n"
          ],
          "name": "stdout"
        }
      ]
    },
    {
      "cell_type": "markdown",
      "metadata": {
        "id": "FwchFUFIwgIK",
        "colab_type": "text"
      },
      "source": [
        "**Keyword arguments (kwargs)**"
      ]
    },
    {
      "cell_type": "code",
      "metadata": {
        "id": "1_NafYnOwgQ7",
        "colab_type": "code",
        "outputId": "8debe046-fd20-40ea-991d-ec907a406167",
        "colab": {
          "base_uri": "https://localhost:8080/",
          "height": 34
        }
      },
      "source": [
        "def test_function(child1, child2, child3):\n",
        "  print(\"The youngest child is \" + child3)\n",
        "\n",
        "test_function(child1 = \"George\", child2 = \"Amelia\", child3 = \"Linus\")"
      ],
      "execution_count": 0,
      "outputs": [
        {
          "output_type": "stream",
          "text": [
            "The youngest child is Linus\n"
          ],
          "name": "stdout"
        }
      ]
    },
    {
      "cell_type": "code",
      "metadata": {
        "id": "vISmcNYlwzCo",
        "colab_type": "code",
        "outputId": "1f3f0c8c-4eca-44b8-ff14-7e84b8c147ea",
        "colab": {
          "base_uri": "https://localhost:8080/",
          "height": 34
        }
      },
      "source": [
        "def test_function(child3, child2, child1): # Note order of parameters\n",
        "  print(\"The youngest child is \" + child3)\n",
        "\n",
        "test_function(child1 = \"George\", child2 = \"Amelia\", child3 = \"Linus\")"
      ],
      "execution_count": 0,
      "outputs": [
        {
          "output_type": "stream",
          "text": [
            "The youngest child is Linus\n"
          ],
          "name": "stdout"
        }
      ]
    },
    {
      "cell_type": "markdown",
      "metadata": {
        "id": "GkolRugnw5nZ",
        "colab_type": "text"
      },
      "source": [
        "**Arbitrary arguments**"
      ]
    },
    {
      "cell_type": "code",
      "metadata": {
        "id": "DgVFcMVDw5wx",
        "colab_type": "code",
        "outputId": "7f0c6157-f16e-4eea-b10f-cc2e8e71dd03",
        "colab": {
          "base_uri": "https://localhost:8080/",
          "height": 34
        }
      },
      "source": [
        "def test_function(*children):\n",
        "  print(\"The youngest child is \" + children[2])\n",
        "  \n",
        "test_function(\"George\", \"Amelia\", \"Linus\")"
      ],
      "execution_count": 0,
      "outputs": [
        {
          "output_type": "stream",
          "text": [
            "The youngest child is Linus\n"
          ],
          "name": "stdout"
        }
      ]
    },
    {
      "cell_type": "markdown",
      "metadata": {
        "id": "YYZBrTlPxDrp",
        "colab_type": "text"
      },
      "source": [
        "**Fahrenheit to Celsius**"
      ]
    },
    {
      "cell_type": "code",
      "metadata": {
        "id": "AOEO_jVVxDzA",
        "colab_type": "code",
        "outputId": "620510b1-057d-4b7b-cff1-58164a932e3c",
        "colab": {
          "base_uri": "https://localhost:8080/",
          "height": 51
        }
      },
      "source": [
        "def fahr_to_celsius(temp):\n",
        "    return ((temp - 32) * (5/9))\n",
        "\n",
        "print('freezing point of water:', fahr_to_celsius(32), 'C')\n",
        "print('boiling point of water:', fahr_to_celsius(212), 'C')"
      ],
      "execution_count": 0,
      "outputs": [
        {
          "output_type": "stream",
          "text": [
            "freezing point of water: 0.0 C\n",
            "boiling point of water: 100.0 C\n"
          ],
          "name": "stdout"
        }
      ]
    },
    {
      "cell_type": "markdown",
      "metadata": {
        "id": "Sng1Hr1-xOHe",
        "colab_type": "text"
      },
      "source": [
        "**Nested functions**"
      ]
    },
    {
      "cell_type": "code",
      "metadata": {
        "id": "zcH5WJICxOb7",
        "colab_type": "code",
        "outputId": "e920b67f-de59-415b-cae4-2d049993fae8",
        "colab": {
          "base_uri": "https://localhost:8080/",
          "height": 51
        }
      },
      "source": [
        "def func_1():\n",
        "  print('func_1 called')\n",
        "  func_2()\n",
        "\n",
        "def func_2():\n",
        "  print('func_2 called')\n",
        "\n",
        "func_1()"
      ],
      "execution_count": 0,
      "outputs": [
        {
          "output_type": "stream",
          "text": [
            "func_1 called\n",
            "func_2 called\n"
          ],
          "name": "stdout"
        }
      ]
    },
    {
      "cell_type": "markdown",
      "metadata": {
        "id": "-f4FWRohxuHB",
        "colab_type": "text"
      },
      "source": [
        "## Documentation\n"
      ]
    },
    {
      "cell_type": "markdown",
      "metadata": {
        "id": "DEK1r07vxy_i",
        "colab_type": "text"
      },
      "source": [
        "**docstring**"
      ]
    },
    {
      "cell_type": "code",
      "metadata": {
        "id": "YNw8zBQnxuPm",
        "colab_type": "code",
        "outputId": "277355db-37be-4b97-93e9-71c3cb207e73",
        "colab": {
          "base_uri": "https://localhost:8080/",
          "height": 170
        }
      },
      "source": [
        "def func_1(some_arg):\n",
        "  '''\n",
        "  This is the docstring for func_1\n",
        "  Examples\n",
        "  --------\n",
        "  >>> func_1(22)\n",
        "  22\n",
        "  '''\n",
        "  print(some_arg)\n",
        "\n",
        "help(func_1)"
      ],
      "execution_count": 0,
      "outputs": [
        {
          "output_type": "stream",
          "text": [
            "Help on function func_1 in module __main__:\n",
            "\n",
            "func_1(some_arg)\n",
            "    This is the docstring for func_1\n",
            "    Examples\n",
            "    --------\n",
            "    >>> func_1(22)\n",
            "    22\n",
            "\n"
          ],
          "name": "stdout"
        }
      ]
    },
    {
      "cell_type": "markdown",
      "metadata": {
        "id": "I4lzW-VFyDH7",
        "colab_type": "text"
      },
      "source": [
        "## Defensive Programming"
      ]
    },
    {
      "cell_type": "code",
      "metadata": {
        "id": "rEUNHMCayDQw",
        "colab_type": "code",
        "colab": {}
      },
      "source": [
        "# TODO"
      ],
      "execution_count": 0,
      "outputs": []
    },
    {
      "cell_type": "markdown",
      "metadata": {
        "id": "vr5oTmVWyX4t",
        "colab_type": "text"
      },
      "source": [
        "## Test Driven Development (TDD)"
      ]
    },
    {
      "cell_type": "code",
      "metadata": {
        "id": "5p7yOFfMyYCG",
        "colab_type": "code",
        "colab": {}
      },
      "source": [
        "# TODO"
      ],
      "execution_count": 0,
      "outputs": []
    }
  ]
}