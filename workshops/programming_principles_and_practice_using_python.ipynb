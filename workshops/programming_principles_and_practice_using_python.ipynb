{
  "nbformat": 4,
  "nbformat_minor": 0,
  "metadata": {
    "colab": {
      "name": "programming_principles_and_practice_using_python.ipynb",
      "provenance": [],
      "collapsed_sections": [],
      "authorship_tag": "ABX9TyPvoyLfYlHs+YMCXwfhosks",
      "include_colab_link": true
    },
    "kernelspec": {
      "name": "python3",
      "display_name": "Python 3"
    }
  },
  "cells": [
    {
      "cell_type": "markdown",
      "metadata": {
        "id": "view-in-github",
        "colab_type": "text"
      },
      "source": [
        "<a href=\"https://colab.research.google.com/github/BangorUniversity/Research-Computing-Community/blob/master/workshops/programming_principles_and_practice_using_python.ipynb\" target=\"_parent\"><img src=\"https://colab.research.google.com/assets/colab-badge.svg\" alt=\"Open In Colab\"/></a>"
      ]
    },
    {
      "cell_type": "markdown",
      "metadata": {
        "id": "G6h9jbLOBhKA",
        "colab_type": "text"
      },
      "source": [
        "## **Programming Principles and Practice using Python**\n",
        "\n",
        "---\n",
        "\n",
        "*Morning*\n",
        "\n",
        "*   Environment\n",
        "*   Built-in Data Types\n",
        "*   Variables\n",
        "*   Comments\n",
        "*   Scripts\n",
        "*   Break 20 mins\n",
        "*   Data Structures\n",
        "*   Conditional Statements\n",
        "\n",
        "*Afternoon*\n",
        "\n",
        "*   Functions\n",
        "*   Documentation\n",
        "*   Errors\n",
        "*   Defensive Programming\n",
        "*   Break 20 mins\n",
        "*   File I/O\n",
        "*   Modules\n"
      ]
    },
    {
      "cell_type": "markdown",
      "metadata": {
        "id": "Z0R8P5N4Dv6O",
        "colab_type": "text"
      },
      "source": [
        "## **Environment**\n",
        "\n",
        "---\n",
        "\n",
        "TODO - Explain Google colab and the format of the workshop"
      ]
    },
    {
      "cell_type": "markdown",
      "metadata": {
        "id": "7F55vNDeEXQH",
        "colab_type": "text"
      },
      "source": [
        "## **What is Python**\n",
        "\n",
        "---\n",
        "\n",
        "*   Interpreted, interactive and object-oriented programming language.\n",
        "*   Highly scalable - Small applications to large-scale enterprise solutions.\n",
        "    *   Desktop, Scientific libraries and Web applications (MySCW).\n",
        "*   There are two versions of Python: 2.x and 3.x.\n",
        "    * Prefer 3.x for new development.\n",
        "    * If the codebase you are working on uses 2.x, then use 2.x.\n",
        "        * Many third-party libraries use 2.x.\n",
        "    * Python 2.7 will not be maintained past 2020.\n",
        "\n",
        "* Many developers will test ideas and protoypes in Python and drop down to a lower level language if required.\n",
        "\n",
        "* https://docs.python.org/3/"
      ]
    }
  ]
}