{
  "nbformat": 4,
  "nbformat_minor": 0,
  "metadata": {
    "colab": {
      "name": "programming_principles_and_practice_using_python.ipynb",
      "provenance": [],
      "collapsed_sections": [],
      "authorship_tag": "ABX9TyONRo7fMud7UDwe99KwPe5q",
      "include_colab_link": true
    },
    "kernelspec": {
      "name": "python3",
      "display_name": "Python 3"
    }
  },
  "cells": [
    {
      "cell_type": "markdown",
      "metadata": {
        "id": "view-in-github",
        "colab_type": "text"
      },
      "source": [
        "<a href=\"https://colab.research.google.com/github/BangorUniversity/Research-Computing-Community/blob/master/workshops/programming_principles_and_practice_using_python.ipynb\" target=\"_parent\"><img src=\"https://colab.research.google.com/assets/colab-badge.svg\" alt=\"Open In Colab\"/></a>"
      ]
    },
    {
      "cell_type": "markdown",
      "metadata": {
        "id": "G6h9jbLOBhKA",
        "colab_type": "text"
      },
      "source": [
        "## **Programming Principles and Practice using Python**\n",
        "---"
      ]
    },
    {
      "cell_type": "markdown",
      "metadata": {
        "id": "B_Y9xsJ-N6OC",
        "colab_type": "text"
      },
      "source": [
        "## String(str)"
      ]
    },
    {
      "cell_type": "code",
      "metadata": {
        "id": "8on4Pr2FOZJk",
        "colab_type": "code",
        "colab": {
          "base_uri": "https://localhost:8080/",
          "height": 34
        },
        "outputId": "be7d4174-61d0-45ce-cd92-811a99b56f40"
      },
      "source": [
        "name='Aaron' \n",
        "name"
      ],
      "execution_count": 67,
      "outputs": [
        {
          "output_type": "execute_result",
          "data": {
            "text/plain": [
              "'Aaron'"
            ]
          },
          "metadata": {
            "tags": []
          },
          "execution_count": 67
        }
      ]
    },
    {
      "cell_type": "code",
      "metadata": {
        "id": "UcbfLhBBOZkr",
        "colab_type": "code",
        "colab": {
          "base_uri": "https://localhost:8080/",
          "height": 34
        },
        "outputId": "ced424d3-052d-4eac-9985-b100becb2f9e"
      },
      "source": [
        "name=\"Beth\"\n",
        "name"
      ],
      "execution_count": 68,
      "outputs": [
        {
          "output_type": "execute_result",
          "data": {
            "text/plain": [
              "'Beth'"
            ]
          },
          "metadata": {
            "tags": []
          },
          "execution_count": 68
        }
      ]
    },
    {
      "cell_type": "code",
      "metadata": {
        "id": "auM4va3_ObD4",
        "colab_type": "code",
        "colab": {
          "base_uri": "https://localhost:8080/",
          "height": 34
        },
        "outputId": "6bf01711-7f4e-4b91-a420-7903318e48f7"
      },
      "source": [
        "type(name)"
      ],
      "execution_count": 69,
      "outputs": [
        {
          "output_type": "execute_result",
          "data": {
            "text/plain": [
              "str"
            ]
          },
          "metadata": {
            "tags": []
          },
          "execution_count": 69
        }
      ]
    },
    {
      "cell_type": "code",
      "metadata": {
        "id": "y43nUKMWObIM",
        "colab_type": "code",
        "colab": {
          "base_uri": "https://localhost:8080/",
          "height": 34
        },
        "outputId": "d54a2b57-33db-4028-e83b-22c30bc1509d"
      },
      "source": [
        "print(\"This string contains a single quote (') character.\")"
      ],
      "execution_count": 70,
      "outputs": [
        {
          "output_type": "stream",
          "text": [
            "This string contains a single quote (') character.\n"
          ],
          "name": "stdout"
        }
      ]
    },
    {
      "cell_type": "code",
      "metadata": {
        "id": "A4VkDVHGObK2",
        "colab_type": "code",
        "colab": {
          "base_uri": "https://localhost:8080/",
          "height": 34
        },
        "outputId": "751a5197-6a39-47d4-b962-d7dc6c6a5bcc"
      },
      "source": [
        "print('This string contains a double quote (\") character.')"
      ],
      "execution_count": 71,
      "outputs": [
        {
          "output_type": "stream",
          "text": [
            "This string contains a double quote (\") character.\n"
          ],
          "name": "stdout"
        }
      ]
    },
    {
      "cell_type": "code",
      "metadata": {
        "id": "5HSPc_-cObOK",
        "colab_type": "code",
        "colab": {
          "base_uri": "https://localhost:8080/",
          "height": 34
        },
        "outputId": "135d266b-c2c5-4b1b-df83-e0bd2db55dff"
      },
      "source": [
        "print('''This string has a single (') and a double (\") quote.''')"
      ],
      "execution_count": 72,
      "outputs": [
        {
          "output_type": "stream",
          "text": [
            "This string has a single (') and a double (\") quote.\n"
          ],
          "name": "stdout"
        }
      ]
    },
    {
      "cell_type": "code",
      "metadata": {
        "id": "pLueJ-kHObQ1",
        "colab_type": "code",
        "colab": {
          "base_uri": "https://localhost:8080/",
          "height": 68
        },
        "outputId": "6dc5e4a4-d6f0-487c-f8c3-2245c04d78bc"
      },
      "source": [
        "print(\"\"\"This is a\n",
        "string that spans\n",
        "across several lines\"\"\")"
      ],
      "execution_count": 73,
      "outputs": [
        {
          "output_type": "stream",
          "text": [
            "This is a\n",
            "string that spans\n",
            "across several lines\n"
          ],
          "name": "stdout"
        }
      ]
    },
    {
      "cell_type": "markdown",
      "metadata": {
        "id": "miN4pZo2PhC0",
        "colab_type": "text"
      },
      "source": [
        "## Integer (int)\n",
        "---"
      ]
    },
    {
      "cell_type": "code",
      "metadata": {
        "id": "mfppFHpwPmMp",
        "colab_type": "code",
        "colab": {
          "base_uri": "https://localhost:8080/",
          "height": 34
        },
        "outputId": "13cc82dc-b2c9-4f4b-a9ef-34e9eb5c48bc"
      },
      "source": [
        "a=1\n",
        "a"
      ],
      "execution_count": 74,
      "outputs": [
        {
          "output_type": "execute_result",
          "data": {
            "text/plain": [
              "1"
            ]
          },
          "metadata": {
            "tags": []
          },
          "execution_count": 74
        }
      ]
    },
    {
      "cell_type": "code",
      "metadata": {
        "id": "1ZD8777_PmO5",
        "colab_type": "code",
        "colab": {
          "base_uri": "https://localhost:8080/",
          "height": 34
        },
        "outputId": "1594ec41-756e-420a-8baf-42ea9bfa12a3"
      },
      "source": [
        "b=123456\n",
        "b"
      ],
      "execution_count": 75,
      "outputs": [
        {
          "output_type": "execute_result",
          "data": {
            "text/plain": [
              "123456"
            ]
          },
          "metadata": {
            "tags": []
          },
          "execution_count": 75
        }
      ]
    },
    {
      "cell_type": "code",
      "metadata": {
        "id": "AmeYLS5SPmRq",
        "colab_type": "code",
        "colab": {
          "base_uri": "https://localhost:8080/",
          "height": 34
        },
        "outputId": "906081ca-f206-4cf8-850c-5ebd38549b0e"
      },
      "source": [
        "type(b)"
      ],
      "execution_count": 76,
      "outputs": [
        {
          "output_type": "execute_result",
          "data": {
            "text/plain": [
              "int"
            ]
          },
          "metadata": {
            "tags": []
          },
          "execution_count": 76
        }
      ]
    },
    {
      "cell_type": "code",
      "metadata": {
        "id": "CuJ9wAoSPmUE",
        "colab_type": "code",
        "colab": {
          "base_uri": "https://localhost:8080/",
          "height": 34
        },
        "outputId": "55979ce3-1f62-4517-d41f-b7be181279c0"
      },
      "source": [
        "c=0b10   # Binary 2\n",
        "c"
      ],
      "execution_count": 77,
      "outputs": [
        {
          "output_type": "execute_result",
          "data": {
            "text/plain": [
              "2"
            ]
          },
          "metadata": {
            "tags": []
          },
          "execution_count": 77
        }
      ]
    },
    {
      "cell_type": "code",
      "metadata": {
        "id": "aaQCUz4dPtVw",
        "colab_type": "code",
        "colab": {
          "base_uri": "https://localhost:8080/",
          "height": 34
        },
        "outputId": "6cd95017-73a9-4172-c4a1-bcddfb092e65"
      },
      "source": [
        "d=0x10   # Hexadecimal 16\n",
        "d"
      ],
      "execution_count": 78,
      "outputs": [
        {
          "output_type": "execute_result",
          "data": {
            "text/plain": [
              "16"
            ]
          },
          "metadata": {
            "tags": []
          },
          "execution_count": 78
        }
      ]
    },
    {
      "cell_type": "code",
      "metadata": {
        "id": "ew72BFfMPtZN",
        "colab_type": "code",
        "colab": {
          "base_uri": "https://localhost:8080/",
          "height": 34
        },
        "outputId": "986919e0-bd34-43f9-8dd4-8433b89e9964"
      },
      "source": [
        "e=0o10   # Octal 8\n",
        "e"
      ],
      "execution_count": 79,
      "outputs": [
        {
          "output_type": "execute_result",
          "data": {
            "text/plain": [
              "8"
            ]
          },
          "metadata": {
            "tags": []
          },
          "execution_count": 79
        }
      ]
    },
    {
      "cell_type": "code",
      "metadata": {
        "id": "8da-RAv4PxzI",
        "colab_type": "code",
        "colab": {
          "base_uri": "https://localhost:8080/",
          "height": 51
        },
        "outputId": "70bab952-0872-4a0f-8075-8fe8eb79f64e"
      },
      "source": [
        "print(123123123123123123123123123123123123123123123123 + 1)\n",
        "123123123123123123123123123123123123123123123124"
      ],
      "execution_count": 80,
      "outputs": [
        {
          "output_type": "stream",
          "text": [
            "123123123123123123123123123123123123123123123124\n"
          ],
          "name": "stdout"
        },
        {
          "output_type": "execute_result",
          "data": {
            "text/plain": [
              "123123123123123123123123123123123123123123123124"
            ]
          },
          "metadata": {
            "tags": []
          },
          "execution_count": 80
        }
      ]
    },
    {
      "cell_type": "markdown",
      "metadata": {
        "id": "4d_fFiJSOrOU",
        "colab_type": "text"
      },
      "source": [
        "## Floating-Point Numbers (float)\n",
        "---"
      ]
    },
    {
      "cell_type": "code",
      "metadata": {
        "id": "rJJHdjE0Ox-g",
        "colab_type": "code",
        "colab": {
          "base_uri": "https://localhost:8080/",
          "height": 34
        },
        "outputId": "e6bb77c3-3313-41a7-d443-e157cad44eb1"
      },
      "source": [
        "a=4.2\n",
        "a"
      ],
      "execution_count": 81,
      "outputs": [
        {
          "output_type": "execute_result",
          "data": {
            "text/plain": [
              "4.2"
            ]
          },
          "metadata": {
            "tags": []
          },
          "execution_count": 81
        }
      ]
    },
    {
      "cell_type": "code",
      "metadata": {
        "id": "ffg50ZSIOyEg",
        "colab_type": "code",
        "colab": {
          "base_uri": "https://localhost:8080/",
          "height": 34
        },
        "outputId": "75d6c5c2-5424-4412-fef1-5f9211f866c8"
      },
      "source": [
        "b=.2\n",
        "b"
      ],
      "execution_count": 82,
      "outputs": [
        {
          "output_type": "execute_result",
          "data": {
            "text/plain": [
              "0.2"
            ]
          },
          "metadata": {
            "tags": []
          },
          "execution_count": 82
        }
      ]
    },
    {
      "cell_type": "code",
      "metadata": {
        "id": "R8VjFcB3OyHI",
        "colab_type": "code",
        "colab": {
          "base_uri": "https://localhost:8080/",
          "height": 34
        },
        "outputId": "58debad8-a877-408e-d615-b18bd211c64c"
      },
      "source": [
        "c=.4e7\n",
        "c"
      ],
      "execution_count": 83,
      "outputs": [
        {
          "output_type": "execute_result",
          "data": {
            "text/plain": [
              "4000000.0"
            ]
          },
          "metadata": {
            "tags": []
          },
          "execution_count": 83
        }
      ]
    },
    {
      "cell_type": "code",
      "metadata": {
        "id": "S1B6CQrdOyJn",
        "colab_type": "code",
        "colab": {
          "base_uri": "https://localhost:8080/",
          "height": 34
        },
        "outputId": "5b77ed6d-0a05-44a7-de98-8c4da2fb5822"
      },
      "source": [
        "d=4.2e-4\n",
        "d"
      ],
      "execution_count": 84,
      "outputs": [
        {
          "output_type": "execute_result",
          "data": {
            "text/plain": [
              "0.00042"
            ]
          },
          "metadata": {
            "tags": []
          },
          "execution_count": 84
        }
      ]
    },
    {
      "cell_type": "code",
      "metadata": {
        "id": "4O0qsPJHOyMB",
        "colab_type": "code",
        "colab": {
          "base_uri": "https://localhost:8080/",
          "height": 34
        },
        "outputId": "cc90a300-dfe4-4dd2-b45a-f9662b3b265d"
      },
      "source": [
        "type(d)"
      ],
      "execution_count": 85,
      "outputs": [
        {
          "output_type": "execute_result",
          "data": {
            "text/plain": [
              "float"
            ]
          },
          "metadata": {
            "tags": []
          },
          "execution_count": 85
        }
      ]
    },
    {
      "cell_type": "markdown",
      "metadata": {
        "id": "xLXBN2X9PVPn",
        "colab_type": "text"
      },
      "source": [
        "## Booleans\n",
        "---"
      ]
    },
    {
      "cell_type": "code",
      "metadata": {
        "id": "02jH7T_JPYnY",
        "colab_type": "code",
        "colab": {
          "base_uri": "https://localhost:8080/",
          "height": 34
        },
        "outputId": "298f747a-94a5-4a98-e75b-c9154a7cc930"
      },
      "source": [
        "a=True\n",
        "a"
      ],
      "execution_count": 86,
      "outputs": [
        {
          "output_type": "execute_result",
          "data": {
            "text/plain": [
              "True"
            ]
          },
          "metadata": {
            "tags": []
          },
          "execution_count": 86
        }
      ]
    },
    {
      "cell_type": "code",
      "metadata": {
        "id": "SGSAuVBnPYp5",
        "colab_type": "code",
        "colab": {
          "base_uri": "https://localhost:8080/",
          "height": 34
        },
        "outputId": "e9379289-8fb1-4737-8ea8-e2f61eedacf7"
      },
      "source": [
        "b=False\n",
        "b"
      ],
      "execution_count": 87,
      "outputs": [
        {
          "output_type": "execute_result",
          "data": {
            "text/plain": [
              "False"
            ]
          },
          "metadata": {
            "tags": []
          },
          "execution_count": 87
        }
      ]
    },
    {
      "cell_type": "code",
      "metadata": {
        "id": "omkmM1_2PYs1",
        "colab_type": "code",
        "colab": {
          "base_uri": "https://localhost:8080/",
          "height": 34
        },
        "outputId": "4965ab13-d25e-4316-e0fd-c0110a7c2016"
      },
      "source": [
        "type(b)"
      ],
      "execution_count": 88,
      "outputs": [
        {
          "output_type": "execute_result",
          "data": {
            "text/plain": [
              "bool"
            ]
          },
          "metadata": {
            "tags": []
          },
          "execution_count": 88
        }
      ]
    },
    {
      "cell_type": "markdown",
      "metadata": {
        "id": "-dA1r9ekQXOz",
        "colab_type": "text"
      },
      "source": [
        "## Comments\n",
        "---"
      ]
    },
    {
      "cell_type": "code",
      "metadata": {
        "id": "x22dVC9CQaej",
        "colab_type": "code",
        "colab": {
          "base_uri": "https://localhost:8080/",
          "height": 34
        },
        "outputId": "0f6dc4ee-26e1-46d4-a021-f0c2c317c97b"
      },
      "source": [
        "a=1 # This is a comment and will not run\n",
        "a"
      ],
      "execution_count": 89,
      "outputs": [
        {
          "output_type": "execute_result",
          "data": {
            "text/plain": [
              "1"
            ]
          },
          "metadata": {
            "tags": []
          },
          "execution_count": 89
        }
      ]
    },
    {
      "cell_type": "code",
      "metadata": {
        "id": "TaMnAXMFQgbV",
        "colab_type": "code",
        "colab": {}
      },
      "source": [
        "\"\"\"\n",
        "This is a\n",
        "multiline comment\n",
        "and will not run\n",
        "\"\"\"\n",
        "a=1"
      ],
      "execution_count": 0,
      "outputs": []
    },
    {
      "cell_type": "markdown",
      "metadata": {
        "id": "BHxlAxZwQ1QU",
        "colab_type": "text"
      },
      "source": [
        "## Scripts\n",
        "---"
      ]
    },
    {
      "cell_type": "code",
      "metadata": {
        "id": "V-Pc1CbsQxCS",
        "colab_type": "code",
        "colab": {
          "base_uri": "https://localhost:8080/",
          "height": 34
        },
        "outputId": "d3d187ef-a8a4-4c35-fe73-6243cf5429b7"
      },
      "source": [
        "def main():\n",
        "  print('Called main()')\n",
        "  \n",
        "if __name__ == '__main__':  # Entry point\n",
        "  main()"
      ],
      "execution_count": 93,
      "outputs": [
        {
          "output_type": "stream",
          "text": [
            "Called main()\n"
          ],
          "name": "stdout"
        }
      ]
    },
    {
      "cell_type": "markdown",
      "metadata": {
        "id": "rIS9qSwKQ7AI",
        "colab_type": "text"
      },
      "source": [
        "## Lists\n",
        "---"
      ]
    },
    {
      "cell_type": "code",
      "metadata": {
        "id": "-hqyhKHJRAZk",
        "colab_type": "code",
        "colab": {
          "base_uri": "https://localhost:8080/",
          "height": 34
        },
        "outputId": "c5319486-d88b-433d-832d-d4aa8b48309e"
      },
      "source": [
        "names = [\"Aaron\", \"Beth\", \"George\"]\n",
        "names"
      ],
      "execution_count": 95,
      "outputs": [
        {
          "output_type": "execute_result",
          "data": {
            "text/plain": [
              "['Aaron', 'Beth', 'George']"
            ]
          },
          "metadata": {
            "tags": []
          },
          "execution_count": 95
        }
      ]
    },
    {
      "cell_type": "code",
      "metadata": {
        "id": "YneqDBTpRG5Y",
        "colab_type": "code",
        "colab": {
          "base_uri": "https://localhost:8080/",
          "height": 34
        },
        "outputId": "96a4650a-ccee-412a-c9ab-7a1c5ef0caea"
      },
      "source": [
        "len(names)"
      ],
      "execution_count": 96,
      "outputs": [
        {
          "output_type": "execute_result",
          "data": {
            "text/plain": [
              "3"
            ]
          },
          "metadata": {
            "tags": []
          },
          "execution_count": 96
        }
      ]
    }
  ]
}