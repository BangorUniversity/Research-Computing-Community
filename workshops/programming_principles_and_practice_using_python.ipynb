{
  "nbformat": 4,
  "nbformat_minor": 0,
  "metadata": {
    "colab": {
      "name": "programming_principles_and_practice_using_python.ipynb",
      "provenance": [],
      "collapsed_sections": [],
      "authorship_tag": "ABX9TyMiGQSLYqSuLk9kNp4W4n9V",
      "include_colab_link": true
    },
    "kernelspec": {
      "name": "python3",
      "display_name": "Python 3"
    }
  },
  "cells": [
    {
      "cell_type": "markdown",
      "metadata": {
        "id": "view-in-github",
        "colab_type": "text"
      },
      "source": [
        "<a href=\"https://colab.research.google.com/github/BangorUniversity/Research-Computing-Community/blob/master/workshops/programming_principles_and_practice_using_python.ipynb\" target=\"_parent\"><img src=\"https://colab.research.google.com/assets/colab-badge.svg\" alt=\"Open In Colab\"/></a>"
      ]
    },
    {
      "cell_type": "markdown",
      "metadata": {
        "id": "G6h9jbLOBhKA",
        "colab_type": "text"
      },
      "source": [
        "## **Programming Principles and Practice using Python**\n",
        "---"
      ]
    },
    {
      "cell_type": "markdown",
      "metadata": {
        "id": "B_Y9xsJ-N6OC",
        "colab_type": "text"
      },
      "source": [
        "## String(str)"
      ]
    },
    {
      "cell_type": "code",
      "metadata": {
        "id": "8on4Pr2FOZJk",
        "colab_type": "code",
        "colab": {
          "base_uri": "https://localhost:8080/",
          "height": 34
        },
        "outputId": "89c73cee-5357-4474-da0e-5d1c95b0dcb9"
      },
      "source": [
        "name='Aaron' \n",
        "name"
      ],
      "execution_count": 187,
      "outputs": [
        {
          "output_type": "execute_result",
          "data": {
            "text/plain": [
              "'Aaron'"
            ]
          },
          "metadata": {
            "tags": []
          },
          "execution_count": 187
        }
      ]
    },
    {
      "cell_type": "code",
      "metadata": {
        "id": "UcbfLhBBOZkr",
        "colab_type": "code",
        "colab": {
          "base_uri": "https://localhost:8080/",
          "height": 34
        },
        "outputId": "83c07a1a-6102-487d-c344-53683187537c"
      },
      "source": [
        "name=\"Beth\"\n",
        "name"
      ],
      "execution_count": 188,
      "outputs": [
        {
          "output_type": "execute_result",
          "data": {
            "text/plain": [
              "'Beth'"
            ]
          },
          "metadata": {
            "tags": []
          },
          "execution_count": 188
        }
      ]
    },
    {
      "cell_type": "code",
      "metadata": {
        "id": "auM4va3_ObD4",
        "colab_type": "code",
        "colab": {
          "base_uri": "https://localhost:8080/",
          "height": 34
        },
        "outputId": "142c5a01-57fc-4e11-e414-7ee4c779b5c5"
      },
      "source": [
        "type(name)"
      ],
      "execution_count": 189,
      "outputs": [
        {
          "output_type": "execute_result",
          "data": {
            "text/plain": [
              "str"
            ]
          },
          "metadata": {
            "tags": []
          },
          "execution_count": 189
        }
      ]
    },
    {
      "cell_type": "code",
      "metadata": {
        "id": "y43nUKMWObIM",
        "colab_type": "code",
        "colab": {
          "base_uri": "https://localhost:8080/",
          "height": 34
        },
        "outputId": "c71b6feb-c2e8-4f2a-a51c-c9e0d87d33df"
      },
      "source": [
        "print(\"This string contains a single quote (') character.\")"
      ],
      "execution_count": 190,
      "outputs": [
        {
          "output_type": "stream",
          "text": [
            "This string contains a single quote (') character.\n"
          ],
          "name": "stdout"
        }
      ]
    },
    {
      "cell_type": "code",
      "metadata": {
        "id": "A4VkDVHGObK2",
        "colab_type": "code",
        "colab": {
          "base_uri": "https://localhost:8080/",
          "height": 34
        },
        "outputId": "d57f24a3-31a1-47fe-8ab5-de2d883a354e"
      },
      "source": [
        "print('This string contains a double quote (\") character.')"
      ],
      "execution_count": 191,
      "outputs": [
        {
          "output_type": "stream",
          "text": [
            "This string contains a double quote (\") character.\n"
          ],
          "name": "stdout"
        }
      ]
    },
    {
      "cell_type": "code",
      "metadata": {
        "id": "5HSPc_-cObOK",
        "colab_type": "code",
        "colab": {
          "base_uri": "https://localhost:8080/",
          "height": 34
        },
        "outputId": "cf98b34b-eac1-4e14-cb5e-81ed820ca931"
      },
      "source": [
        "print('''This string has a single (') and a double (\") quote.''')"
      ],
      "execution_count": 192,
      "outputs": [
        {
          "output_type": "stream",
          "text": [
            "This string has a single (') and a double (\") quote.\n"
          ],
          "name": "stdout"
        }
      ]
    },
    {
      "cell_type": "code",
      "metadata": {
        "id": "pLueJ-kHObQ1",
        "colab_type": "code",
        "colab": {
          "base_uri": "https://localhost:8080/",
          "height": 68
        },
        "outputId": "b85d9c61-efcb-4d67-fb1b-692c21545c42"
      },
      "source": [
        "print(\"\"\"This is a\n",
        "string that spans\n",
        "across several lines\"\"\")"
      ],
      "execution_count": 193,
      "outputs": [
        {
          "output_type": "stream",
          "text": [
            "This is a\n",
            "string that spans\n",
            "across several lines\n"
          ],
          "name": "stdout"
        }
      ]
    },
    {
      "cell_type": "markdown",
      "metadata": {
        "id": "miN4pZo2PhC0",
        "colab_type": "text"
      },
      "source": [
        "## Integer (int)"
      ]
    },
    {
      "cell_type": "code",
      "metadata": {
        "id": "mfppFHpwPmMp",
        "colab_type": "code",
        "colab": {
          "base_uri": "https://localhost:8080/",
          "height": 34
        },
        "outputId": "a6bc1258-aa9e-43ad-d694-3073d092a82e"
      },
      "source": [
        "a=1\n",
        "a"
      ],
      "execution_count": 194,
      "outputs": [
        {
          "output_type": "execute_result",
          "data": {
            "text/plain": [
              "1"
            ]
          },
          "metadata": {
            "tags": []
          },
          "execution_count": 194
        }
      ]
    },
    {
      "cell_type": "code",
      "metadata": {
        "id": "1ZD8777_PmO5",
        "colab_type": "code",
        "colab": {
          "base_uri": "https://localhost:8080/",
          "height": 34
        },
        "outputId": "9a1cf5a5-535a-4b30-bc72-ff70c45430f2"
      },
      "source": [
        "b=123456\n",
        "b"
      ],
      "execution_count": 195,
      "outputs": [
        {
          "output_type": "execute_result",
          "data": {
            "text/plain": [
              "123456"
            ]
          },
          "metadata": {
            "tags": []
          },
          "execution_count": 195
        }
      ]
    },
    {
      "cell_type": "code",
      "metadata": {
        "id": "AmeYLS5SPmRq",
        "colab_type": "code",
        "colab": {
          "base_uri": "https://localhost:8080/",
          "height": 34
        },
        "outputId": "36cfe2f0-a4a2-49d6-99ed-494e4ee0d4fb"
      },
      "source": [
        "type(b)"
      ],
      "execution_count": 196,
      "outputs": [
        {
          "output_type": "execute_result",
          "data": {
            "text/plain": [
              "int"
            ]
          },
          "metadata": {
            "tags": []
          },
          "execution_count": 196
        }
      ]
    },
    {
      "cell_type": "code",
      "metadata": {
        "id": "CuJ9wAoSPmUE",
        "colab_type": "code",
        "colab": {
          "base_uri": "https://localhost:8080/",
          "height": 34
        },
        "outputId": "864bcf2b-c6cb-44d7-c409-a2a5deaea017"
      },
      "source": [
        "c=0b10   # Binary 2\n",
        "c"
      ],
      "execution_count": 197,
      "outputs": [
        {
          "output_type": "execute_result",
          "data": {
            "text/plain": [
              "2"
            ]
          },
          "metadata": {
            "tags": []
          },
          "execution_count": 197
        }
      ]
    },
    {
      "cell_type": "code",
      "metadata": {
        "id": "aaQCUz4dPtVw",
        "colab_type": "code",
        "colab": {
          "base_uri": "https://localhost:8080/",
          "height": 34
        },
        "outputId": "a3f624b4-1b04-40a1-fb66-4f25ea878ba3"
      },
      "source": [
        "d=0x10   # Hexadecimal 16\n",
        "d"
      ],
      "execution_count": 198,
      "outputs": [
        {
          "output_type": "execute_result",
          "data": {
            "text/plain": [
              "16"
            ]
          },
          "metadata": {
            "tags": []
          },
          "execution_count": 198
        }
      ]
    },
    {
      "cell_type": "code",
      "metadata": {
        "id": "ew72BFfMPtZN",
        "colab_type": "code",
        "colab": {
          "base_uri": "https://localhost:8080/",
          "height": 34
        },
        "outputId": "e426061e-4c5c-4ee6-be99-125da3a68f76"
      },
      "source": [
        "e=0o10   # Octal 8\n",
        "e"
      ],
      "execution_count": 199,
      "outputs": [
        {
          "output_type": "execute_result",
          "data": {
            "text/plain": [
              "8"
            ]
          },
          "metadata": {
            "tags": []
          },
          "execution_count": 199
        }
      ]
    },
    {
      "cell_type": "code",
      "metadata": {
        "id": "8da-RAv4PxzI",
        "colab_type": "code",
        "colab": {
          "base_uri": "https://localhost:8080/",
          "height": 34
        },
        "outputId": "86fc4377-d49a-411b-90e4-3d4a3117e6d6"
      },
      "source": [
        "print(123123123123123123123123123123123123123123123123 + 1)"
      ],
      "execution_count": 200,
      "outputs": [
        {
          "output_type": "stream",
          "text": [
            "123123123123123123123123123123123123123123123124\n"
          ],
          "name": "stdout"
        }
      ]
    },
    {
      "cell_type": "markdown",
      "metadata": {
        "id": "4d_fFiJSOrOU",
        "colab_type": "text"
      },
      "source": [
        "## Floating-Point Numbers (float)"
      ]
    },
    {
      "cell_type": "code",
      "metadata": {
        "id": "rJJHdjE0Ox-g",
        "colab_type": "code",
        "colab": {
          "base_uri": "https://localhost:8080/",
          "height": 34
        },
        "outputId": "b7bddf75-5c95-4217-84dd-d4f1353ab457"
      },
      "source": [
        "a=4.2\n",
        "a"
      ],
      "execution_count": 201,
      "outputs": [
        {
          "output_type": "execute_result",
          "data": {
            "text/plain": [
              "4.2"
            ]
          },
          "metadata": {
            "tags": []
          },
          "execution_count": 201
        }
      ]
    },
    {
      "cell_type": "code",
      "metadata": {
        "id": "ffg50ZSIOyEg",
        "colab_type": "code",
        "colab": {
          "base_uri": "https://localhost:8080/",
          "height": 34
        },
        "outputId": "dc88dca8-1aeb-43d2-8896-3787ded93c5f"
      },
      "source": [
        "b=.2\n",
        "b"
      ],
      "execution_count": 202,
      "outputs": [
        {
          "output_type": "execute_result",
          "data": {
            "text/plain": [
              "0.2"
            ]
          },
          "metadata": {
            "tags": []
          },
          "execution_count": 202
        }
      ]
    },
    {
      "cell_type": "code",
      "metadata": {
        "id": "R8VjFcB3OyHI",
        "colab_type": "code",
        "colab": {
          "base_uri": "https://localhost:8080/",
          "height": 34
        },
        "outputId": "be70de89-d9bc-407a-9dca-64806578d0b6"
      },
      "source": [
        "c=.4e7\n",
        "c"
      ],
      "execution_count": 203,
      "outputs": [
        {
          "output_type": "execute_result",
          "data": {
            "text/plain": [
              "4000000.0"
            ]
          },
          "metadata": {
            "tags": []
          },
          "execution_count": 203
        }
      ]
    },
    {
      "cell_type": "code",
      "metadata": {
        "id": "S1B6CQrdOyJn",
        "colab_type": "code",
        "colab": {
          "base_uri": "https://localhost:8080/",
          "height": 34
        },
        "outputId": "d9b5cced-56f5-46d0-f59f-e7fef9ca393b"
      },
      "source": [
        "d=4.2e-4\n",
        "d"
      ],
      "execution_count": 204,
      "outputs": [
        {
          "output_type": "execute_result",
          "data": {
            "text/plain": [
              "0.00042"
            ]
          },
          "metadata": {
            "tags": []
          },
          "execution_count": 204
        }
      ]
    },
    {
      "cell_type": "code",
      "metadata": {
        "id": "4O0qsPJHOyMB",
        "colab_type": "code",
        "colab": {
          "base_uri": "https://localhost:8080/",
          "height": 34
        },
        "outputId": "9dbcc97a-3ddb-4bd9-f070-b4a0aab31207"
      },
      "source": [
        "type(d)"
      ],
      "execution_count": 205,
      "outputs": [
        {
          "output_type": "execute_result",
          "data": {
            "text/plain": [
              "float"
            ]
          },
          "metadata": {
            "tags": []
          },
          "execution_count": 205
        }
      ]
    },
    {
      "cell_type": "markdown",
      "metadata": {
        "id": "xLXBN2X9PVPn",
        "colab_type": "text"
      },
      "source": [
        "## Booleans"
      ]
    },
    {
      "cell_type": "code",
      "metadata": {
        "id": "02jH7T_JPYnY",
        "colab_type": "code",
        "colab": {
          "base_uri": "https://localhost:8080/",
          "height": 34
        },
        "outputId": "63682dc8-2283-4e0c-b055-9beff92ab1cb"
      },
      "source": [
        "a=True\n",
        "a"
      ],
      "execution_count": 206,
      "outputs": [
        {
          "output_type": "execute_result",
          "data": {
            "text/plain": [
              "True"
            ]
          },
          "metadata": {
            "tags": []
          },
          "execution_count": 206
        }
      ]
    },
    {
      "cell_type": "code",
      "metadata": {
        "id": "SGSAuVBnPYp5",
        "colab_type": "code",
        "colab": {
          "base_uri": "https://localhost:8080/",
          "height": 34
        },
        "outputId": "d23e68e9-e617-4595-9ec1-e1c9fac05977"
      },
      "source": [
        "b=False\n",
        "b"
      ],
      "execution_count": 207,
      "outputs": [
        {
          "output_type": "execute_result",
          "data": {
            "text/plain": [
              "False"
            ]
          },
          "metadata": {
            "tags": []
          },
          "execution_count": 207
        }
      ]
    },
    {
      "cell_type": "code",
      "metadata": {
        "id": "omkmM1_2PYs1",
        "colab_type": "code",
        "colab": {
          "base_uri": "https://localhost:8080/",
          "height": 34
        },
        "outputId": "e016c01b-37f8-4cc4-e6d6-8b982c33fac1"
      },
      "source": [
        "type(b)"
      ],
      "execution_count": 208,
      "outputs": [
        {
          "output_type": "execute_result",
          "data": {
            "text/plain": [
              "bool"
            ]
          },
          "metadata": {
            "tags": []
          },
          "execution_count": 208
        }
      ]
    },
    {
      "cell_type": "markdown",
      "metadata": {
        "id": "-dA1r9ekQXOz",
        "colab_type": "text"
      },
      "source": [
        "## Comments"
      ]
    },
    {
      "cell_type": "code",
      "metadata": {
        "id": "x22dVC9CQaej",
        "colab_type": "code",
        "colab": {
          "base_uri": "https://localhost:8080/",
          "height": 34
        },
        "outputId": "8dd19fba-6ddc-41af-9f7b-e9ee5acc89f9"
      },
      "source": [
        "a=1 # This is a comment and will not run\n",
        "a"
      ],
      "execution_count": 209,
      "outputs": [
        {
          "output_type": "execute_result",
          "data": {
            "text/plain": [
              "1"
            ]
          },
          "metadata": {
            "tags": []
          },
          "execution_count": 209
        }
      ]
    },
    {
      "cell_type": "code",
      "metadata": {
        "id": "TaMnAXMFQgbV",
        "colab_type": "code",
        "colab": {}
      },
      "source": [
        "\"\"\"\n",
        "This is a\n",
        "multiline comment\n",
        "and will not run\n",
        "\"\"\"\n",
        "a=1"
      ],
      "execution_count": 0,
      "outputs": []
    },
    {
      "cell_type": "markdown",
      "metadata": {
        "id": "BHxlAxZwQ1QU",
        "colab_type": "text"
      },
      "source": [
        "## Scripts"
      ]
    },
    {
      "cell_type": "code",
      "metadata": {
        "id": "V-Pc1CbsQxCS",
        "colab_type": "code",
        "colab": {
          "base_uri": "https://localhost:8080/",
          "height": 34
        },
        "outputId": "c0037783-a62b-4bfd-fdb2-a5a9a490acd1"
      },
      "source": [
        "def main():\n",
        "  print('Called main()')\n",
        "  \n",
        "if __name__ == '__main__':  # Entry point\n",
        "  main()"
      ],
      "execution_count": 211,
      "outputs": [
        {
          "output_type": "stream",
          "text": [
            "Called main()\n"
          ],
          "name": "stdout"
        }
      ]
    },
    {
      "cell_type": "markdown",
      "metadata": {
        "id": "rIS9qSwKQ7AI",
        "colab_type": "text"
      },
      "source": [
        "## Lists"
      ]
    },
    {
      "cell_type": "code",
      "metadata": {
        "id": "-hqyhKHJRAZk",
        "colab_type": "code",
        "colab": {
          "base_uri": "https://localhost:8080/",
          "height": 34
        },
        "outputId": "24f3362f-d354-4003-e947-d6da6f44d45c"
      },
      "source": [
        "names = [\"Aaron\", \"Beth\", \"George\"]\n",
        "names"
      ],
      "execution_count": 212,
      "outputs": [
        {
          "output_type": "execute_result",
          "data": {
            "text/plain": [
              "['Aaron', 'Beth', 'George']"
            ]
          },
          "metadata": {
            "tags": []
          },
          "execution_count": 212
        }
      ]
    },
    {
      "cell_type": "code",
      "metadata": {
        "id": "YneqDBTpRG5Y",
        "colab_type": "code",
        "colab": {
          "base_uri": "https://localhost:8080/",
          "height": 34
        },
        "outputId": "f86c0b29-f413-4c50-88d2-c867fce08743"
      },
      "source": [
        "len(names)"
      ],
      "execution_count": 213,
      "outputs": [
        {
          "output_type": "execute_result",
          "data": {
            "text/plain": [
              "3"
            ]
          },
          "metadata": {
            "tags": []
          },
          "execution_count": 213
        }
      ]
    },
    {
      "cell_type": "markdown",
      "metadata": {
        "id": "AyvFlge3Sv-8",
        "colab_type": "text"
      },
      "source": [
        "**Access Items**"
      ]
    },
    {
      "cell_type": "code",
      "metadata": {
        "id": "iAxoaONSSvjb",
        "colab_type": "code",
        "colab": {
          "base_uri": "https://localhost:8080/",
          "height": 68
        },
        "outputId": "1e3a7526-835e-44b8-fb23-f2ee69179b8d"
      },
      "source": [
        "print(names[0])\n",
        "print(names[1])\n",
        "print(names[2])\n",
        "#print(names[3]) # ???"
      ],
      "execution_count": 214,
      "outputs": [
        {
          "output_type": "stream",
          "text": [
            "Aaron\n",
            "Beth\n",
            "George\n"
          ],
          "name": "stdout"
        }
      ]
    },
    {
      "cell_type": "markdown",
      "metadata": {
        "id": "s6TNZgXnS7zi",
        "colab_type": "text"
      },
      "source": [
        "**Negative Indexing**"
      ]
    },
    {
      "cell_type": "code",
      "metadata": {
        "id": "vf1tOlOtTDAN",
        "colab_type": "code",
        "colab": {
          "base_uri": "https://localhost:8080/",
          "height": 51
        },
        "outputId": "7821bdef-1723-4af4-c05e-d0821d9934ea"
      },
      "source": [
        "print(names[-1])\n",
        "print(names[-2])"
      ],
      "execution_count": 215,
      "outputs": [
        {
          "output_type": "stream",
          "text": [
            "George\n",
            "Beth\n"
          ],
          "name": "stdout"
        }
      ]
    },
    {
      "cell_type": "markdown",
      "metadata": {
        "id": "-fioRzMoTLx8",
        "colab_type": "text"
      },
      "source": [
        "**Add an item**"
      ]
    },
    {
      "cell_type": "code",
      "metadata": {
        "id": "8ND5ChzYTIZj",
        "colab_type": "code",
        "colab": {
          "base_uri": "https://localhost:8080/",
          "height": 34
        },
        "outputId": "e9c1dcea-c754-4553-a3c7-c5d23d5e87db"
      },
      "source": [
        "names = [\"Aaron\", \"Beth\", \"George\"]\n",
        "names.append(\"Dereck\")\n",
        "print(names)"
      ],
      "execution_count": 216,
      "outputs": [
        {
          "output_type": "stream",
          "text": [
            "['Aaron', 'Beth', 'George', 'Dereck']\n"
          ],
          "name": "stdout"
        }
      ]
    },
    {
      "cell_type": "markdown",
      "metadata": {
        "id": "UfrFme4ATaVE",
        "colab_type": "text"
      },
      "source": [
        "**Add an item at specified index**"
      ]
    },
    {
      "cell_type": "code",
      "metadata": {
        "id": "UC6bWi9xTcUv",
        "colab_type": "code",
        "colab": {
          "base_uri": "https://localhost:8080/",
          "height": 34
        },
        "outputId": "163f4af4-c28a-4002-db0f-c4eb89da3bb4"
      },
      "source": [
        "names = [\"Aaron\", \"Beth\", \"George\"]\n",
        "names.insert(1, \"Mia\")\n",
        "print(names)"
      ],
      "execution_count": 217,
      "outputs": [
        {
          "output_type": "stream",
          "text": [
            "['Aaron', 'Mia', 'Beth', 'George']\n"
          ],
          "name": "stdout"
        }
      ]
    },
    {
      "cell_type": "markdown",
      "metadata": {
        "id": "ufLJfFHwTg5b",
        "colab_type": "text"
      },
      "source": [
        "**Remove an item**"
      ]
    },
    {
      "cell_type": "code",
      "metadata": {
        "id": "-7_cVH3-Tlg7",
        "colab_type": "code",
        "colab": {
          "base_uri": "https://localhost:8080/",
          "height": 34
        },
        "outputId": "7b8c94c5-4f0e-4fb8-8195-ddcbf56aa1d0"
      },
      "source": [
        "names = [\"Aaron\", \"Beth\", \"George\"]\n",
        "names.remove('Aaron')\n",
        "print(names)"
      ],
      "execution_count": 218,
      "outputs": [
        {
          "output_type": "stream",
          "text": [
            "['Beth', 'George']\n"
          ],
          "name": "stdout"
        }
      ]
    },
    {
      "cell_type": "markdown",
      "metadata": {
        "id": "APhep50mTpPZ",
        "colab_type": "text"
      },
      "source": [
        "**Clear a list**"
      ]
    },
    {
      "cell_type": "code",
      "metadata": {
        "id": "3CFjnfb4T2Vt",
        "colab_type": "code",
        "colab": {
          "base_uri": "https://localhost:8080/",
          "height": 34
        },
        "outputId": "45e7a9ef-8e20-44a0-8288-ad5ffbd237c2"
      },
      "source": [
        "names = [\"Aaron\", \"Beth\", \"George\"]\n",
        "names.clear()\n",
        "print(names)"
      ],
      "execution_count": 219,
      "outputs": [
        {
          "output_type": "stream",
          "text": [
            "[]\n"
          ],
          "name": "stdout"
        }
      ]
    },
    {
      "cell_type": "markdown",
      "metadata": {
        "id": "HFCYADV9T9RU",
        "colab_type": "text"
      },
      "source": [
        "## Tuples"
      ]
    },
    {
      "cell_type": "code",
      "metadata": {
        "id": "apvLPzvZT_sZ",
        "colab_type": "code",
        "colab": {
          "base_uri": "https://localhost:8080/",
          "height": 34
        },
        "outputId": "75fed5ed-3d05-49e6-c6be-2aded99e8ba8"
      },
      "source": [
        "names = (\"Aaron\", \"Beth\", \"George\")\n",
        "print(names)"
      ],
      "execution_count": 220,
      "outputs": [
        {
          "output_type": "stream",
          "text": [
            "('Aaron', 'Beth', 'George')\n"
          ],
          "name": "stdout"
        }
      ]
    },
    {
      "cell_type": "markdown",
      "metadata": {
        "id": "77f6CjhqULsl",
        "colab_type": "text"
      },
      "source": [
        "## Dictionaries\n"
      ]
    },
    {
      "cell_type": "code",
      "metadata": {
        "id": "QCC_gotXUP1V",
        "colab_type": "code",
        "colab": {
          "base_uri": "https://localhost:8080/",
          "height": 34
        },
        "outputId": "5eff162a-4789-44fc-92e9-412cdd16e0c4"
      },
      "source": [
        "person = {\n",
        "  \"name\": \"Aaron\",\n",
        "  \"age\": 32,\n",
        "  \"title\": \"Mr\"\n",
        "}\n",
        "print(person)"
      ],
      "execution_count": 221,
      "outputs": [
        {
          "output_type": "stream",
          "text": [
            "{'name': 'Aaron', 'age': 32, 'title': 'Mr'}\n"
          ],
          "name": "stdout"
        }
      ]
    },
    {
      "cell_type": "markdown",
      "metadata": {
        "id": "L2taixCFUuYy",
        "colab_type": "text"
      },
      "source": [
        "**Accessing Items**"
      ]
    },
    {
      "cell_type": "code",
      "metadata": {
        "id": "DMgiNOnrUsxc",
        "colab_type": "code",
        "colab": {
          "base_uri": "https://localhost:8080/",
          "height": 68
        },
        "outputId": "f149fdc4-e407-4cb8-cde7-9d808e593365"
      },
      "source": [
        "print(person[\"name\"])\n",
        "print(person.get(\"name\"))\n",
        "print(person.get(\"x\", \"default if x does not exist\"))"
      ],
      "execution_count": 222,
      "outputs": [
        {
          "output_type": "stream",
          "text": [
            "Aaron\n",
            "Aaron\n",
            "default if x does not exist\n"
          ],
          "name": "stdout"
        }
      ]
    },
    {
      "cell_type": "markdown",
      "metadata": {
        "id": "SgsgIsLSU8U8",
        "colab_type": "text"
      },
      "source": [
        "**Change Values**"
      ]
    },
    {
      "cell_type": "code",
      "metadata": {
        "id": "jHc3TLbCU9Nt",
        "colab_type": "code",
        "colab": {
          "base_uri": "https://localhost:8080/",
          "height": 34
        },
        "outputId": "aa4b8e9e-6010-4b47-e7d3-69be50e2f626"
      },
      "source": [
        "person[\"name\"]=\"Beth\"\n",
        "person[\"age\"]=29\n",
        "person[\"title\"]=\"Miss\"\n",
        "print(person)"
      ],
      "execution_count": 223,
      "outputs": [
        {
          "output_type": "stream",
          "text": [
            "{'name': 'Beth', 'age': 29, 'title': 'Miss'}\n"
          ],
          "name": "stdout"
        }
      ]
    },
    {
      "cell_type": "markdown",
      "metadata": {
        "id": "UE1RUr_ZVDmc",
        "colab_type": "text"
      },
      "source": [
        "**Check if Key Exists**"
      ]
    },
    {
      "cell_type": "code",
      "metadata": {
        "id": "-2LHzEJvVDO4",
        "colab_type": "code",
        "colab": {
          "base_uri": "https://localhost:8080/",
          "height": 34
        },
        "outputId": "c2531b8a-0bde-4922-f680-3263df7eaf0c"
      },
      "source": [
        "if \"name\" in person:\n",
        "    print(\"Yes, 'name' is one of the keys in the person dictionary\")\n",
        "else:\n",
        "    print(\"No, 'name' is not one of the keys in the person dictionary\")"
      ],
      "execution_count": 224,
      "outputs": [
        {
          "output_type": "stream",
          "text": [
            "Yes, 'name' is one of the keys in the person dictionary\n"
          ],
          "name": "stdout"
        }
      ]
    },
    {
      "cell_type": "markdown",
      "metadata": {
        "id": "FYPD27BjVLLs",
        "colab_type": "text"
      },
      "source": [
        "**Adding Items**"
      ]
    },
    {
      "cell_type": "code",
      "metadata": {
        "id": "gwfMdQntVNkr",
        "colab_type": "code",
        "colab": {
          "base_uri": "https://localhost:8080/",
          "height": 34
        },
        "outputId": "731a1825-1ccf-484d-e3d1-49053236b4f8"
      },
      "source": [
        "person = {\n",
        "  \"name\": \"Aaron\",\n",
        "  \"age\": 32,\n",
        "  \"title\": \"Mr\"\n",
        "}\n",
        "person[\"job\"]=\"Research Software Engineer\"\n",
        "print(person)"
      ],
      "execution_count": 225,
      "outputs": [
        {
          "output_type": "stream",
          "text": [
            "{'name': 'Aaron', 'age': 32, 'title': 'Mr', 'job': 'Research Software Engineer'}\n"
          ],
          "name": "stdout"
        }
      ]
    },
    {
      "cell_type": "markdown",
      "metadata": {
        "id": "nKT6Tqw5VVRn",
        "colab_type": "text"
      },
      "source": [
        "**Removing Items**"
      ]
    },
    {
      "cell_type": "code",
      "metadata": {
        "id": "H-9UzYVXVWZp",
        "colab_type": "code",
        "colab": {
          "base_uri": "https://localhost:8080/",
          "height": 34
        },
        "outputId": "aeaa7c1c-6d59-4569-d064-a6542cdb2339"
      },
      "source": [
        "person.pop(\"age\")\n",
        "print(person)"
      ],
      "execution_count": 226,
      "outputs": [
        {
          "output_type": "stream",
          "text": [
            "{'name': 'Aaron', 'title': 'Mr', 'job': 'Research Software Engineer'}\n"
          ],
          "name": "stdout"
        }
      ]
    },
    {
      "cell_type": "markdown",
      "metadata": {
        "id": "OwwGKMBHVZVW",
        "colab_type": "text"
      },
      "source": [
        "**Nested**"
      ]
    },
    {
      "cell_type": "code",
      "metadata": {
        "id": "-HekXUUqVaou",
        "colab_type": "code",
        "colab": {
          "base_uri": "https://localhost:8080/",
          "height": 68
        },
        "outputId": "8d9f32ea-bc11-41b3-d1d1-9599512a86dd"
      },
      "source": [
        "pets = {\n",
        "  \"mia\": {\n",
        "    \"age\": 4,\n",
        "  },\n",
        "  \"boy cat\" : {\n",
        "    \"age\": 9\n",
        "  },\n",
        "  \"girl cat\" : {\n",
        "    \"age\": 9\n",
        "  }\n",
        "}\n",
        "print(pets)\n",
        "print(pets[\"mia\"])\n",
        "print(pets[\"mia\"][\"age\"])"
      ],
      "execution_count": 227,
      "outputs": [
        {
          "output_type": "stream",
          "text": [
            "{'mia': {'age': 4}, 'boy cat': {'age': 9}, 'girl cat': {'age': 9}}\n",
            "{'age': 4}\n",
            "4\n"
          ],
          "name": "stdout"
        }
      ]
    },
    {
      "cell_type": "markdown",
      "metadata": {
        "id": "uNEQ60w_XWkn",
        "colab_type": "text"
      },
      "source": [
        "## Conditional Statements"
      ]
    },
    {
      "cell_type": "markdown",
      "metadata": {
        "id": "JeIuatNEW_Bx",
        "colab_type": "text"
      },
      "source": [
        "**if**"
      ]
    },
    {
      "cell_type": "code",
      "metadata": {
        "id": "mUHm17y6XGTt",
        "colab_type": "code",
        "colab": {
          "base_uri": "https://localhost:8080/",
          "height": 34
        },
        "outputId": "7461389c-6564-424d-a6ef-315c4e1f27a2"
      },
      "source": [
        "a = 33\n",
        "b = 200\n",
        "if b > a:\n",
        "  print(\"b is greater than a\")"
      ],
      "execution_count": 228,
      "outputs": [
        {
          "output_type": "stream",
          "text": [
            "b is greater than a\n"
          ],
          "name": "stdout"
        }
      ]
    },
    {
      "cell_type": "markdown",
      "metadata": {
        "id": "8n4PXnJFXK6g",
        "colab_type": "text"
      },
      "source": [
        "**elif**"
      ]
    },
    {
      "cell_type": "code",
      "metadata": {
        "id": "PpQziczSXNfb",
        "colab_type": "code",
        "colab": {
          "base_uri": "https://localhost:8080/",
          "height": 34
        },
        "outputId": "3a3dbab5-9569-44c5-818b-1317a36a38fb"
      },
      "source": [
        "a = 33\n",
        "b = 33\n",
        "if b > a:\n",
        "  print(\"b is greater than a\")\n",
        "elif a == b:\n",
        "  print(\"a and b are equal\")"
      ],
      "execution_count": 229,
      "outputs": [
        {
          "output_type": "stream",
          "text": [
            "a and b are equal\n"
          ],
          "name": "stdout"
        }
      ]
    },
    {
      "cell_type": "markdown",
      "metadata": {
        "id": "43RGVq2yXO6u",
        "colab_type": "text"
      },
      "source": [
        "**else**"
      ]
    },
    {
      "cell_type": "code",
      "metadata": {
        "id": "IWT2EoNaXQwY",
        "colab_type": "code",
        "colab": {
          "base_uri": "https://localhost:8080/",
          "height": 34
        },
        "outputId": "03abd75a-3ebf-491a-d262-55770a8325cf"
      },
      "source": [
        "a = 200\n",
        "b = 33\n",
        "if b > a:\n",
        "  print(\"b is greater than a\")\n",
        "elif a == b:\n",
        "  print(\"a and b are equal\")\n",
        "else:\n",
        "  print(\"a is greater than b\")"
      ],
      "execution_count": 230,
      "outputs": [
        {
          "output_type": "stream",
          "text": [
            "a is greater than b\n"
          ],
          "name": "stdout"
        }
      ]
    },
    {
      "cell_type": "markdown",
      "metadata": {
        "id": "sl_d80LpXa_F",
        "colab_type": "text"
      },
      "source": [
        "**and**"
      ]
    },
    {
      "cell_type": "code",
      "metadata": {
        "id": "czbNxLtPXd46",
        "colab_type": "code",
        "colab": {
          "base_uri": "https://localhost:8080/",
          "height": 34
        },
        "outputId": "9167af2c-0bb6-44dc-db80-038313810c41"
      },
      "source": [
        "a = 200\n",
        "b = 33\n",
        "c = 500\n",
        "if a > b and c > a:\n",
        "  print(\"Both conditions are True\")"
      ],
      "execution_count": 231,
      "outputs": [
        {
          "output_type": "stream",
          "text": [
            "Both conditions are True\n"
          ],
          "name": "stdout"
        }
      ]
    },
    {
      "cell_type": "markdown",
      "metadata": {
        "id": "SwwqgVHNXgAP",
        "colab_type": "text"
      },
      "source": [
        "**or**"
      ]
    },
    {
      "cell_type": "code",
      "metadata": {
        "id": "5W2O28lnXiT-",
        "colab_type": "code",
        "colab": {
          "base_uri": "https://localhost:8080/",
          "height": 34
        },
        "outputId": "50f91ccb-b3b0-4994-bf93-f73e30a3ac85"
      },
      "source": [
        "a = 200\n",
        "b = 33\n",
        "c = 500\n",
        "if a > b or a > c:\n",
        "  print(\"At least one of the conditions is True\")"
      ],
      "execution_count": 232,
      "outputs": [
        {
          "output_type": "stream",
          "text": [
            "At least one of the conditions is True\n"
          ],
          "name": "stdout"
        }
      ]
    },
    {
      "cell_type": "markdown",
      "metadata": {
        "id": "GPKdrKfOXkre",
        "colab_type": "text"
      },
      "source": [
        "## For Loops"
      ]
    },
    {
      "cell_type": "markdown",
      "metadata": {
        "id": "GeD6D-WxXtFO",
        "colab_type": "text"
      },
      "source": [
        "**Loop through a list**"
      ]
    },
    {
      "cell_type": "code",
      "metadata": {
        "id": "o_SOQ7t1Xnos",
        "colab_type": "code",
        "colab": {
          "base_uri": "https://localhost:8080/",
          "height": 68
        },
        "outputId": "c1d4a770-9906-4b0c-d527-9f522feb6d15"
      },
      "source": [
        "fruits = [\"apple\", \"banana\", \"cherry\"]\n",
        "for x in fruits:\n",
        "  print(x)"
      ],
      "execution_count": 233,
      "outputs": [
        {
          "output_type": "stream",
          "text": [
            "apple\n",
            "banana\n",
            "cherry\n"
          ],
          "name": "stdout"
        }
      ]
    },
    {
      "cell_type": "markdown",
      "metadata": {
        "id": "yGbLBEy5Yfhb",
        "colab_type": "text"
      },
      "source": [
        "**Loop through a string**"
      ]
    },
    {
      "cell_type": "code",
      "metadata": {
        "id": "pHqAEHBVYmpM",
        "colab_type": "code",
        "colab": {
          "base_uri": "https://localhost:8080/",
          "height": 119
        },
        "outputId": "49f6c248-b26f-444c-db7c-80b1182c452d"
      },
      "source": [
        "for x in \"banana\":\n",
        "  print(x)"
      ],
      "execution_count": 234,
      "outputs": [
        {
          "output_type": "stream",
          "text": [
            "b\n",
            "a\n",
            "n\n",
            "a\n",
            "n\n",
            "a\n"
          ],
          "name": "stdout"
        }
      ]
    },
    {
      "cell_type": "markdown",
      "metadata": {
        "id": "fUXPceFhYqn0",
        "colab_type": "text"
      },
      "source": [
        "**break**"
      ]
    },
    {
      "cell_type": "code",
      "metadata": {
        "id": "ROFPHAwhYujn",
        "colab_type": "code",
        "colab": {
          "base_uri": "https://localhost:8080/",
          "height": 51
        },
        "outputId": "e87fe21a-5fbc-408c-b3cb-966b4c47998b"
      },
      "source": [
        "fruits = [\"apple\", \"banana\", \"cherry\"]\n",
        "for x in fruits:\n",
        "  print(x)\n",
        "  if x == \"banana\":\n",
        "    break"
      ],
      "execution_count": 235,
      "outputs": [
        {
          "output_type": "stream",
          "text": [
            "apple\n",
            "banana\n"
          ],
          "name": "stdout"
        }
      ]
    },
    {
      "cell_type": "markdown",
      "metadata": {
        "id": "vnrYxGVOZFrY",
        "colab_type": "text"
      },
      "source": [
        "**continue**"
      ]
    },
    {
      "cell_type": "code",
      "metadata": {
        "id": "SkaHHJ2XZHBD",
        "colab_type": "code",
        "colab": {
          "base_uri": "https://localhost:8080/",
          "height": 51
        },
        "outputId": "61032521-987b-43ad-9a02-62b2a9f5824b"
      },
      "source": [
        "fruits = [\"apple\", \"banana\", \"cherry\"]\n",
        "for x in fruits:\n",
        "  if x == \"banana\":\n",
        "    continue\n",
        "  print(x)"
      ],
      "execution_count": 236,
      "outputs": [
        {
          "output_type": "stream",
          "text": [
            "apple\n",
            "cherry\n"
          ],
          "name": "stdout"
        }
      ]
    },
    {
      "cell_type": "markdown",
      "metadata": {
        "id": "00T-JeIUZI0M",
        "colab_type": "text"
      },
      "source": [
        "**range**"
      ]
    },
    {
      "cell_type": "code",
      "metadata": {
        "id": "z39-fBXVZLvq",
        "colab_type": "code",
        "colab": {
          "base_uri": "https://localhost:8080/",
          "height": 119
        },
        "outputId": "cd94aab2-d141-4a92-e97b-b0cbce0f6036"
      },
      "source": [
        "for x in range(6):\n",
        "  print(x)"
      ],
      "execution_count": 237,
      "outputs": [
        {
          "output_type": "stream",
          "text": [
            "0\n",
            "1\n",
            "2\n",
            "3\n",
            "4\n",
            "5\n"
          ],
          "name": "stdout"
        }
      ]
    },
    {
      "cell_type": "code",
      "metadata": {
        "id": "gtG8Osh7ZOVz",
        "colab_type": "code",
        "colab": {
          "base_uri": "https://localhost:8080/",
          "height": 34
        },
        "outputId": "d2e8d1ab-aaed-4f75-a3a5-c563b4c37fff"
      },
      "source": [
        "for n in range(10):\n",
        "  print(n, end=(' ' if n < 9 else '\\n'))"
      ],
      "execution_count": 238,
      "outputs": [
        {
          "output_type": "stream",
          "text": [
            "0 1 2 3 4 5 6 7 8 9\n"
          ],
          "name": "stdout"
        }
      ]
    },
    {
      "cell_type": "markdown",
      "metadata": {
        "id": "T5X3VEOvZSmc",
        "colab_type": "text"
      },
      "source": [
        "**else**"
      ]
    },
    {
      "cell_type": "code",
      "metadata": {
        "id": "nT975Un8ZWnt",
        "colab_type": "code",
        "colab": {
          "base_uri": "https://localhost:8080/",
          "height": 136
        },
        "outputId": "e25671c5-7079-421d-856f-3c47a9a24612"
      },
      "source": [
        "for x in range(6):\n",
        "  print(x)\n",
        "else:\n",
        "  print(\"Finally finished!\")"
      ],
      "execution_count": 239,
      "outputs": [
        {
          "output_type": "stream",
          "text": [
            "0\n",
            "1\n",
            "2\n",
            "3\n",
            "4\n",
            "5\n",
            "Finally finished!\n"
          ],
          "name": "stdout"
        }
      ]
    },
    {
      "cell_type": "markdown",
      "metadata": {
        "id": "0M5GVWFgZaG-",
        "colab_type": "text"
      },
      "source": [
        "**Loop through a dictionary**"
      ]
    },
    {
      "cell_type": "code",
      "metadata": {
        "id": "zT1TG7E0ZgcV",
        "colab_type": "code",
        "colab": {
          "base_uri": "https://localhost:8080/",
          "height": 68
        },
        "outputId": "7cbabb3f-17a6-4370-e685-8089773c9a43"
      },
      "source": [
        "person = {\n",
        "  \"name\": \"Aaron\",\n",
        "  \"age\": 32,\n",
        "  \"title\": \"Mr\"\n",
        "}\n",
        "for x, y in person.items():\n",
        "  print(x, y)"
      ],
      "execution_count": 240,
      "outputs": [
        {
          "output_type": "stream",
          "text": [
            "name Aaron\n",
            "age 32\n",
            "title Mr\n"
          ],
          "name": "stdout"
        }
      ]
    }
  ]
}