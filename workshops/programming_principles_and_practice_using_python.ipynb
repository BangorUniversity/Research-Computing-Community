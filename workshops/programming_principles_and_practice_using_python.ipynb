{
  "nbformat": 4,
  "nbformat_minor": 0,
  "metadata": {
    "colab": {
      "name": "programming_principles_and_practice_using_python.ipynb",
      "provenance": [],
      "collapsed_sections": [],
      "authorship_tag": "ABX9TyP/M9Y7KJ+gtRL6/iRWqCo3",
      "include_colab_link": true
    },
    "kernelspec": {
      "name": "python3",
      "display_name": "Python 3"
    }
  },
  "cells": [
    {
      "cell_type": "markdown",
      "metadata": {
        "id": "view-in-github",
        "colab_type": "text"
      },
      "source": [
        "<a href=\"https://colab.research.google.com/github/BangorUniversity/Research-Computing-Community/blob/master/workshops/programming_principles_and_practice_using_python.ipynb\" target=\"_parent\"><img src=\"https://colab.research.google.com/assets/colab-badge.svg\" alt=\"Open In Colab\"/></a>"
      ]
    },
    {
      "cell_type": "markdown",
      "metadata": {
        "id": "G6h9jbLOBhKA",
        "colab_type": "text"
      },
      "source": [
        "## **Programming Principles and Practice using Python**\n",
        "---"
      ]
    },
    {
      "cell_type": "markdown",
      "metadata": {
        "id": "B_Y9xsJ-N6OC",
        "colab_type": "text"
      },
      "source": [
        "## String(str)"
      ]
    },
    {
      "cell_type": "code",
      "metadata": {
        "id": "8on4Pr2FOZJk",
        "colab_type": "code",
        "colab": {
          "base_uri": "https://localhost:8080/",
          "height": 34
        },
        "outputId": "7e08bca6-7acf-4947-8dfa-27903e009b8b"
      },
      "source": [
        "name='Aaron' \n",
        "name"
      ],
      "execution_count": 140,
      "outputs": [
        {
          "output_type": "execute_result",
          "data": {
            "text/plain": [
              "'Aaron'"
            ]
          },
          "metadata": {
            "tags": []
          },
          "execution_count": 140
        }
      ]
    },
    {
      "cell_type": "code",
      "metadata": {
        "id": "UcbfLhBBOZkr",
        "colab_type": "code",
        "colab": {
          "base_uri": "https://localhost:8080/",
          "height": 34
        },
        "outputId": "9b437431-00d4-4c2a-fcba-b09a8f294658"
      },
      "source": [
        "name=\"Beth\"\n",
        "name"
      ],
      "execution_count": 141,
      "outputs": [
        {
          "output_type": "execute_result",
          "data": {
            "text/plain": [
              "'Beth'"
            ]
          },
          "metadata": {
            "tags": []
          },
          "execution_count": 141
        }
      ]
    },
    {
      "cell_type": "code",
      "metadata": {
        "id": "auM4va3_ObD4",
        "colab_type": "code",
        "colab": {
          "base_uri": "https://localhost:8080/",
          "height": 34
        },
        "outputId": "c55822f3-0899-4985-c1c7-32cdafb6431a"
      },
      "source": [
        "type(name)"
      ],
      "execution_count": 142,
      "outputs": [
        {
          "output_type": "execute_result",
          "data": {
            "text/plain": [
              "str"
            ]
          },
          "metadata": {
            "tags": []
          },
          "execution_count": 142
        }
      ]
    },
    {
      "cell_type": "code",
      "metadata": {
        "id": "y43nUKMWObIM",
        "colab_type": "code",
        "colab": {
          "base_uri": "https://localhost:8080/",
          "height": 34
        },
        "outputId": "1935e675-2836-4d0a-ae68-c0bdc540c19c"
      },
      "source": [
        "print(\"This string contains a single quote (') character.\")"
      ],
      "execution_count": 143,
      "outputs": [
        {
          "output_type": "stream",
          "text": [
            "This string contains a single quote (') character.\n"
          ],
          "name": "stdout"
        }
      ]
    },
    {
      "cell_type": "code",
      "metadata": {
        "id": "A4VkDVHGObK2",
        "colab_type": "code",
        "colab": {
          "base_uri": "https://localhost:8080/",
          "height": 34
        },
        "outputId": "338e539c-d5e0-4f67-c5d1-a6fcbd08ec06"
      },
      "source": [
        "print('This string contains a double quote (\") character.')"
      ],
      "execution_count": 144,
      "outputs": [
        {
          "output_type": "stream",
          "text": [
            "This string contains a double quote (\") character.\n"
          ],
          "name": "stdout"
        }
      ]
    },
    {
      "cell_type": "code",
      "metadata": {
        "id": "5HSPc_-cObOK",
        "colab_type": "code",
        "colab": {
          "base_uri": "https://localhost:8080/",
          "height": 34
        },
        "outputId": "570e0aa5-b397-4cad-d3fb-cfc78637fd3c"
      },
      "source": [
        "print('''This string has a single (') and a double (\") quote.''')"
      ],
      "execution_count": 145,
      "outputs": [
        {
          "output_type": "stream",
          "text": [
            "This string has a single (') and a double (\") quote.\n"
          ],
          "name": "stdout"
        }
      ]
    },
    {
      "cell_type": "code",
      "metadata": {
        "id": "pLueJ-kHObQ1",
        "colab_type": "code",
        "colab": {
          "base_uri": "https://localhost:8080/",
          "height": 68
        },
        "outputId": "f12c159d-10b0-4f28-af1c-5f76d689a5b5"
      },
      "source": [
        "print(\"\"\"This is a\n",
        "string that spans\n",
        "across several lines\"\"\")"
      ],
      "execution_count": 146,
      "outputs": [
        {
          "output_type": "stream",
          "text": [
            "This is a\n",
            "string that spans\n",
            "across several lines\n"
          ],
          "name": "stdout"
        }
      ]
    },
    {
      "cell_type": "markdown",
      "metadata": {
        "id": "miN4pZo2PhC0",
        "colab_type": "text"
      },
      "source": [
        "## Integer (int)\n",
        "---"
      ]
    },
    {
      "cell_type": "code",
      "metadata": {
        "id": "mfppFHpwPmMp",
        "colab_type": "code",
        "colab": {
          "base_uri": "https://localhost:8080/",
          "height": 34
        },
        "outputId": "13acbaaa-1f4b-45ef-c713-7ee3eb2c630b"
      },
      "source": [
        "a=1\n",
        "a"
      ],
      "execution_count": 147,
      "outputs": [
        {
          "output_type": "execute_result",
          "data": {
            "text/plain": [
              "1"
            ]
          },
          "metadata": {
            "tags": []
          },
          "execution_count": 147
        }
      ]
    },
    {
      "cell_type": "code",
      "metadata": {
        "id": "1ZD8777_PmO5",
        "colab_type": "code",
        "colab": {
          "base_uri": "https://localhost:8080/",
          "height": 34
        },
        "outputId": "71586930-0a7d-4ade-ec80-bdfd2f97b569"
      },
      "source": [
        "b=123456\n",
        "b"
      ],
      "execution_count": 148,
      "outputs": [
        {
          "output_type": "execute_result",
          "data": {
            "text/plain": [
              "123456"
            ]
          },
          "metadata": {
            "tags": []
          },
          "execution_count": 148
        }
      ]
    },
    {
      "cell_type": "code",
      "metadata": {
        "id": "AmeYLS5SPmRq",
        "colab_type": "code",
        "colab": {
          "base_uri": "https://localhost:8080/",
          "height": 34
        },
        "outputId": "b46e5d87-b1a5-4f74-f039-d18bd74b619c"
      },
      "source": [
        "type(b)"
      ],
      "execution_count": 149,
      "outputs": [
        {
          "output_type": "execute_result",
          "data": {
            "text/plain": [
              "int"
            ]
          },
          "metadata": {
            "tags": []
          },
          "execution_count": 149
        }
      ]
    },
    {
      "cell_type": "code",
      "metadata": {
        "id": "CuJ9wAoSPmUE",
        "colab_type": "code",
        "colab": {
          "base_uri": "https://localhost:8080/",
          "height": 34
        },
        "outputId": "3950b333-9852-48c3-e426-67dce3f0faf1"
      },
      "source": [
        "c=0b10   # Binary 2\n",
        "c"
      ],
      "execution_count": 150,
      "outputs": [
        {
          "output_type": "execute_result",
          "data": {
            "text/plain": [
              "2"
            ]
          },
          "metadata": {
            "tags": []
          },
          "execution_count": 150
        }
      ]
    },
    {
      "cell_type": "code",
      "metadata": {
        "id": "aaQCUz4dPtVw",
        "colab_type": "code",
        "colab": {
          "base_uri": "https://localhost:8080/",
          "height": 34
        },
        "outputId": "70f2a8b5-f2f6-4045-becd-4e4099de2938"
      },
      "source": [
        "d=0x10   # Hexadecimal 16\n",
        "d"
      ],
      "execution_count": 151,
      "outputs": [
        {
          "output_type": "execute_result",
          "data": {
            "text/plain": [
              "16"
            ]
          },
          "metadata": {
            "tags": []
          },
          "execution_count": 151
        }
      ]
    },
    {
      "cell_type": "code",
      "metadata": {
        "id": "ew72BFfMPtZN",
        "colab_type": "code",
        "colab": {
          "base_uri": "https://localhost:8080/",
          "height": 34
        },
        "outputId": "b4449163-5355-41f7-b092-f20a9576221b"
      },
      "source": [
        "e=0o10   # Octal 8\n",
        "e"
      ],
      "execution_count": 152,
      "outputs": [
        {
          "output_type": "execute_result",
          "data": {
            "text/plain": [
              "8"
            ]
          },
          "metadata": {
            "tags": []
          },
          "execution_count": 152
        }
      ]
    },
    {
      "cell_type": "code",
      "metadata": {
        "id": "8da-RAv4PxzI",
        "colab_type": "code",
        "colab": {
          "base_uri": "https://localhost:8080/",
          "height": 51
        },
        "outputId": "7bbf1937-c1aa-4819-e3c1-8f0a5dac0e54"
      },
      "source": [
        "print(123123123123123123123123123123123123123123123123 + 1)\n",
        "123123123123123123123123123123123123123123123124"
      ],
      "execution_count": 153,
      "outputs": [
        {
          "output_type": "stream",
          "text": [
            "123123123123123123123123123123123123123123123124\n"
          ],
          "name": "stdout"
        },
        {
          "output_type": "execute_result",
          "data": {
            "text/plain": [
              "123123123123123123123123123123123123123123123124"
            ]
          },
          "metadata": {
            "tags": []
          },
          "execution_count": 153
        }
      ]
    },
    {
      "cell_type": "markdown",
      "metadata": {
        "id": "4d_fFiJSOrOU",
        "colab_type": "text"
      },
      "source": [
        "## Floating-Point Numbers (float)\n",
        "---"
      ]
    },
    {
      "cell_type": "code",
      "metadata": {
        "id": "rJJHdjE0Ox-g",
        "colab_type": "code",
        "colab": {
          "base_uri": "https://localhost:8080/",
          "height": 34
        },
        "outputId": "4db56f23-b9b6-44c1-ed83-b61fed255086"
      },
      "source": [
        "a=4.2\n",
        "a"
      ],
      "execution_count": 154,
      "outputs": [
        {
          "output_type": "execute_result",
          "data": {
            "text/plain": [
              "4.2"
            ]
          },
          "metadata": {
            "tags": []
          },
          "execution_count": 154
        }
      ]
    },
    {
      "cell_type": "code",
      "metadata": {
        "id": "ffg50ZSIOyEg",
        "colab_type": "code",
        "colab": {
          "base_uri": "https://localhost:8080/",
          "height": 34
        },
        "outputId": "a129085e-c98a-4fcf-f084-fa0734af18bb"
      },
      "source": [
        "b=.2\n",
        "b"
      ],
      "execution_count": 155,
      "outputs": [
        {
          "output_type": "execute_result",
          "data": {
            "text/plain": [
              "0.2"
            ]
          },
          "metadata": {
            "tags": []
          },
          "execution_count": 155
        }
      ]
    },
    {
      "cell_type": "code",
      "metadata": {
        "id": "R8VjFcB3OyHI",
        "colab_type": "code",
        "colab": {
          "base_uri": "https://localhost:8080/",
          "height": 34
        },
        "outputId": "e8f9d3a4-122b-4606-df32-6040ba2a458f"
      },
      "source": [
        "c=.4e7\n",
        "c"
      ],
      "execution_count": 156,
      "outputs": [
        {
          "output_type": "execute_result",
          "data": {
            "text/plain": [
              "4000000.0"
            ]
          },
          "metadata": {
            "tags": []
          },
          "execution_count": 156
        }
      ]
    },
    {
      "cell_type": "code",
      "metadata": {
        "id": "S1B6CQrdOyJn",
        "colab_type": "code",
        "colab": {
          "base_uri": "https://localhost:8080/",
          "height": 34
        },
        "outputId": "94b00a89-8f79-4f76-e47f-91a339de5c24"
      },
      "source": [
        "d=4.2e-4\n",
        "d"
      ],
      "execution_count": 157,
      "outputs": [
        {
          "output_type": "execute_result",
          "data": {
            "text/plain": [
              "0.00042"
            ]
          },
          "metadata": {
            "tags": []
          },
          "execution_count": 157
        }
      ]
    },
    {
      "cell_type": "code",
      "metadata": {
        "id": "4O0qsPJHOyMB",
        "colab_type": "code",
        "colab": {
          "base_uri": "https://localhost:8080/",
          "height": 34
        },
        "outputId": "6b231e14-f444-4c3b-fad8-36665ba307ae"
      },
      "source": [
        "type(d)"
      ],
      "execution_count": 158,
      "outputs": [
        {
          "output_type": "execute_result",
          "data": {
            "text/plain": [
              "float"
            ]
          },
          "metadata": {
            "tags": []
          },
          "execution_count": 158
        }
      ]
    },
    {
      "cell_type": "markdown",
      "metadata": {
        "id": "xLXBN2X9PVPn",
        "colab_type": "text"
      },
      "source": [
        "## Booleans\n",
        "---"
      ]
    },
    {
      "cell_type": "code",
      "metadata": {
        "id": "02jH7T_JPYnY",
        "colab_type": "code",
        "colab": {
          "base_uri": "https://localhost:8080/",
          "height": 34
        },
        "outputId": "c27c456c-3739-4171-b645-4c6e97a429a0"
      },
      "source": [
        "a=True\n",
        "a"
      ],
      "execution_count": 159,
      "outputs": [
        {
          "output_type": "execute_result",
          "data": {
            "text/plain": [
              "True"
            ]
          },
          "metadata": {
            "tags": []
          },
          "execution_count": 159
        }
      ]
    },
    {
      "cell_type": "code",
      "metadata": {
        "id": "SGSAuVBnPYp5",
        "colab_type": "code",
        "colab": {
          "base_uri": "https://localhost:8080/",
          "height": 34
        },
        "outputId": "137048b7-ddb5-4466-9477-cf248d4ff3b0"
      },
      "source": [
        "b=False\n",
        "b"
      ],
      "execution_count": 160,
      "outputs": [
        {
          "output_type": "execute_result",
          "data": {
            "text/plain": [
              "False"
            ]
          },
          "metadata": {
            "tags": []
          },
          "execution_count": 160
        }
      ]
    },
    {
      "cell_type": "code",
      "metadata": {
        "id": "omkmM1_2PYs1",
        "colab_type": "code",
        "colab": {
          "base_uri": "https://localhost:8080/",
          "height": 34
        },
        "outputId": "21562079-fc0c-4aa0-d03a-e13206c8fdf5"
      },
      "source": [
        "type(b)"
      ],
      "execution_count": 161,
      "outputs": [
        {
          "output_type": "execute_result",
          "data": {
            "text/plain": [
              "bool"
            ]
          },
          "metadata": {
            "tags": []
          },
          "execution_count": 161
        }
      ]
    },
    {
      "cell_type": "markdown",
      "metadata": {
        "id": "-dA1r9ekQXOz",
        "colab_type": "text"
      },
      "source": [
        "## Comments\n",
        "---"
      ]
    },
    {
      "cell_type": "code",
      "metadata": {
        "id": "x22dVC9CQaej",
        "colab_type": "code",
        "colab": {
          "base_uri": "https://localhost:8080/",
          "height": 34
        },
        "outputId": "7f95ae27-e6b7-42f6-cdf7-6007adf21e1f"
      },
      "source": [
        "a=1 # This is a comment and will not run\n",
        "a"
      ],
      "execution_count": 162,
      "outputs": [
        {
          "output_type": "execute_result",
          "data": {
            "text/plain": [
              "1"
            ]
          },
          "metadata": {
            "tags": []
          },
          "execution_count": 162
        }
      ]
    },
    {
      "cell_type": "code",
      "metadata": {
        "id": "TaMnAXMFQgbV",
        "colab_type": "code",
        "colab": {}
      },
      "source": [
        "\"\"\"\n",
        "This is a\n",
        "multiline comment\n",
        "and will not run\n",
        "\"\"\"\n",
        "a=1"
      ],
      "execution_count": 0,
      "outputs": []
    },
    {
      "cell_type": "markdown",
      "metadata": {
        "id": "BHxlAxZwQ1QU",
        "colab_type": "text"
      },
      "source": [
        "## Scripts\n",
        "---"
      ]
    },
    {
      "cell_type": "code",
      "metadata": {
        "id": "V-Pc1CbsQxCS",
        "colab_type": "code",
        "colab": {
          "base_uri": "https://localhost:8080/",
          "height": 34
        },
        "outputId": "d05934e5-3db0-4427-9469-253d92aeb368"
      },
      "source": [
        "def main():\n",
        "  print('Called main()')\n",
        "  \n",
        "if __name__ == '__main__':  # Entry point\n",
        "  main()"
      ],
      "execution_count": 164,
      "outputs": [
        {
          "output_type": "stream",
          "text": [
            "Called main()\n"
          ],
          "name": "stdout"
        }
      ]
    },
    {
      "cell_type": "markdown",
      "metadata": {
        "id": "rIS9qSwKQ7AI",
        "colab_type": "text"
      },
      "source": [
        "## Lists\n",
        "---"
      ]
    },
    {
      "cell_type": "code",
      "metadata": {
        "id": "-hqyhKHJRAZk",
        "colab_type": "code",
        "colab": {
          "base_uri": "https://localhost:8080/",
          "height": 34
        },
        "outputId": "a81a30fc-a697-4cdf-ee58-155213bfcfe9"
      },
      "source": [
        "names = [\"Aaron\", \"Beth\", \"George\"]\n",
        "names"
      ],
      "execution_count": 165,
      "outputs": [
        {
          "output_type": "execute_result",
          "data": {
            "text/plain": [
              "['Aaron', 'Beth', 'George']"
            ]
          },
          "metadata": {
            "tags": []
          },
          "execution_count": 165
        }
      ]
    },
    {
      "cell_type": "code",
      "metadata": {
        "id": "YneqDBTpRG5Y",
        "colab_type": "code",
        "colab": {
          "base_uri": "https://localhost:8080/",
          "height": 34
        },
        "outputId": "a8cfc431-3c4f-4141-8275-08c6359d87da"
      },
      "source": [
        "len(names)"
      ],
      "execution_count": 166,
      "outputs": [
        {
          "output_type": "execute_result",
          "data": {
            "text/plain": [
              "3"
            ]
          },
          "metadata": {
            "tags": []
          },
          "execution_count": 166
        }
      ]
    },
    {
      "cell_type": "markdown",
      "metadata": {
        "id": "AyvFlge3Sv-8",
        "colab_type": "text"
      },
      "source": [
        "**Access Items**"
      ]
    },
    {
      "cell_type": "code",
      "metadata": {
        "id": "iAxoaONSSvjb",
        "colab_type": "code",
        "colab": {
          "base_uri": "https://localhost:8080/",
          "height": 68
        },
        "outputId": "23deb791-d5f8-4801-8835-93ba008f9900"
      },
      "source": [
        "print(names[0])\n",
        "print(names[1])\n",
        "print(names[2])\n",
        "#print(names[3]) # ???"
      ],
      "execution_count": 167,
      "outputs": [
        {
          "output_type": "stream",
          "text": [
            "Aaron\n",
            "Beth\n",
            "George\n"
          ],
          "name": "stdout"
        }
      ]
    },
    {
      "cell_type": "markdown",
      "metadata": {
        "id": "s6TNZgXnS7zi",
        "colab_type": "text"
      },
      "source": [
        "**Negative Indexing**"
      ]
    },
    {
      "cell_type": "code",
      "metadata": {
        "id": "vf1tOlOtTDAN",
        "colab_type": "code",
        "colab": {
          "base_uri": "https://localhost:8080/",
          "height": 51
        },
        "outputId": "87396cb6-3fa3-43ed-fb15-9238432850fa"
      },
      "source": [
        "print(names[-1])\n",
        "print(names[-2])"
      ],
      "execution_count": 168,
      "outputs": [
        {
          "output_type": "stream",
          "text": [
            "George\n",
            "Beth\n"
          ],
          "name": "stdout"
        }
      ]
    },
    {
      "cell_type": "markdown",
      "metadata": {
        "id": "-fioRzMoTLx8",
        "colab_type": "text"
      },
      "source": [
        "**Add an item**"
      ]
    },
    {
      "cell_type": "code",
      "metadata": {
        "id": "8ND5ChzYTIZj",
        "colab_type": "code",
        "colab": {
          "base_uri": "https://localhost:8080/",
          "height": 34
        },
        "outputId": "01a38165-94f7-4197-8a47-f0b601d15fd0"
      },
      "source": [
        "names = [\"Aaron\", \"Beth\", \"George\"]\n",
        "names.append(\"Dereck\")\n",
        "print(names)"
      ],
      "execution_count": 169,
      "outputs": [
        {
          "output_type": "stream",
          "text": [
            "['Aaron', 'Beth', 'George', 'Dereck']\n"
          ],
          "name": "stdout"
        }
      ]
    },
    {
      "cell_type": "markdown",
      "metadata": {
        "id": "UfrFme4ATaVE",
        "colab_type": "text"
      },
      "source": [
        "**Add an item at specified index**"
      ]
    },
    {
      "cell_type": "code",
      "metadata": {
        "id": "UC6bWi9xTcUv",
        "colab_type": "code",
        "colab": {
          "base_uri": "https://localhost:8080/",
          "height": 34
        },
        "outputId": "99085c5e-c8eb-480f-adcc-b085c1cab446"
      },
      "source": [
        "names = [\"Aaron\", \"Beth\", \"George\"]\n",
        "names.insert(1, \"Mia\")\n",
        "print(names)"
      ],
      "execution_count": 170,
      "outputs": [
        {
          "output_type": "stream",
          "text": [
            "['Aaron', 'Mia', 'Beth', 'George']\n"
          ],
          "name": "stdout"
        }
      ]
    },
    {
      "cell_type": "markdown",
      "metadata": {
        "id": "ufLJfFHwTg5b",
        "colab_type": "text"
      },
      "source": [
        "**Remove an item**"
      ]
    },
    {
      "cell_type": "code",
      "metadata": {
        "id": "-7_cVH3-Tlg7",
        "colab_type": "code",
        "colab": {
          "base_uri": "https://localhost:8080/",
          "height": 34
        },
        "outputId": "961c7420-e390-4f60-eb0d-a1bf464e0c21"
      },
      "source": [
        "names = [\"Aaron\", \"Beth\", \"George\"]\n",
        "names.remove('Aaron')\n",
        "print(names)"
      ],
      "execution_count": 171,
      "outputs": [
        {
          "output_type": "stream",
          "text": [
            "['Beth', 'George']\n"
          ],
          "name": "stdout"
        }
      ]
    },
    {
      "cell_type": "markdown",
      "metadata": {
        "id": "APhep50mTpPZ",
        "colab_type": "text"
      },
      "source": [
        "**Clear a list**"
      ]
    },
    {
      "cell_type": "code",
      "metadata": {
        "id": "3CFjnfb4T2Vt",
        "colab_type": "code",
        "colab": {
          "base_uri": "https://localhost:8080/",
          "height": 34
        },
        "outputId": "bed509c0-5ef5-4786-e7ea-dad9bfed1659"
      },
      "source": [
        "names = [\"Aaron\", \"Beth\", \"George\"]\n",
        "names.clear()\n",
        "print(names)"
      ],
      "execution_count": 172,
      "outputs": [
        {
          "output_type": "stream",
          "text": [
            "[]\n"
          ],
          "name": "stdout"
        }
      ]
    },
    {
      "cell_type": "markdown",
      "metadata": {
        "id": "HFCYADV9T9RU",
        "colab_type": "text"
      },
      "source": [
        "## Tuples\n",
        "---"
      ]
    },
    {
      "cell_type": "code",
      "metadata": {
        "id": "apvLPzvZT_sZ",
        "colab_type": "code",
        "colab": {
          "base_uri": "https://localhost:8080/",
          "height": 34
        },
        "outputId": "49a2fa1f-f835-43f8-f509-7c8690346c95"
      },
      "source": [
        "names = (\"Aaron\", \"Beth\", \"George\")\n",
        "print(names)"
      ],
      "execution_count": 173,
      "outputs": [
        {
          "output_type": "stream",
          "text": [
            "('Aaron', 'Beth', 'George')\n"
          ],
          "name": "stdout"
        }
      ]
    },
    {
      "cell_type": "markdown",
      "metadata": {
        "id": "77f6CjhqULsl",
        "colab_type": "text"
      },
      "source": [
        "## Dictionaries\n",
        "---\n"
      ]
    },
    {
      "cell_type": "code",
      "metadata": {
        "id": "QCC_gotXUP1V",
        "colab_type": "code",
        "colab": {
          "base_uri": "https://localhost:8080/",
          "height": 34
        },
        "outputId": "9db45457-0466-43ee-b818-b3856c87af0c"
      },
      "source": [
        "person = {\n",
        "  \"name\": \"Aaron\",\n",
        "  \"age\": 32,\n",
        "  \"title\": \"Mr\"\n",
        "}\n",
        "print(person)"
      ],
      "execution_count": 174,
      "outputs": [
        {
          "output_type": "stream",
          "text": [
            "{'name': 'Aaron', 'age': 32, 'title': 'Mr'}\n"
          ],
          "name": "stdout"
        }
      ]
    },
    {
      "cell_type": "markdown",
      "metadata": {
        "id": "L2taixCFUuYy",
        "colab_type": "text"
      },
      "source": [
        "**Accessing Items**"
      ]
    },
    {
      "cell_type": "code",
      "metadata": {
        "id": "DMgiNOnrUsxc",
        "colab_type": "code",
        "colab": {
          "base_uri": "https://localhost:8080/",
          "height": 68
        },
        "outputId": "e726f30a-88f0-41a1-81ad-2905f3e42d88"
      },
      "source": [
        "print(person[\"name\"])\n",
        "print(person.get(\"name\"))\n",
        "print(person.get(\"x\", \"default if x does not exist\"))"
      ],
      "execution_count": 175,
      "outputs": [
        {
          "output_type": "stream",
          "text": [
            "Aaron\n",
            "Aaron\n",
            "default if x does not exist\n"
          ],
          "name": "stdout"
        }
      ]
    },
    {
      "cell_type": "markdown",
      "metadata": {
        "id": "SgsgIsLSU8U8",
        "colab_type": "text"
      },
      "source": [
        "**Change Values**"
      ]
    },
    {
      "cell_type": "code",
      "metadata": {
        "id": "jHc3TLbCU9Nt",
        "colab_type": "code",
        "colab": {
          "base_uri": "https://localhost:8080/",
          "height": 34
        },
        "outputId": "3fa1b145-a034-4ed6-fc6f-c287d7c28b45"
      },
      "source": [
        "person[\"name\"]=\"Beth\"\n",
        "person[\"age\"]=29\n",
        "person[\"title\"]=\"Miss\"\n",
        "print(person)"
      ],
      "execution_count": 176,
      "outputs": [
        {
          "output_type": "stream",
          "text": [
            "{'name': 'Beth', 'age': 29, 'title': 'Miss'}\n"
          ],
          "name": "stdout"
        }
      ]
    },
    {
      "cell_type": "markdown",
      "metadata": {
        "id": "UE1RUr_ZVDmc",
        "colab_type": "text"
      },
      "source": [
        "**Check if Key Exists**"
      ]
    },
    {
      "cell_type": "code",
      "metadata": {
        "id": "-2LHzEJvVDO4",
        "colab_type": "code",
        "colab": {
          "base_uri": "https://localhost:8080/",
          "height": 34
        },
        "outputId": "2b77a40f-8b49-4360-fd30-1051060ce0a1"
      },
      "source": [
        "if \"name\" in person:\n",
        "    print(\"Yes, 'name' is one of the keys in the person dictionary\")\n",
        "else:\n",
        "    print(\"No, 'name' is not one of the keys in the person dictionary\")"
      ],
      "execution_count": 177,
      "outputs": [
        {
          "output_type": "stream",
          "text": [
            "Yes, 'name' is one of the keys in the person dictionary\n"
          ],
          "name": "stdout"
        }
      ]
    },
    {
      "cell_type": "markdown",
      "metadata": {
        "id": "FYPD27BjVLLs",
        "colab_type": "text"
      },
      "source": [
        "**Adding Items**"
      ]
    },
    {
      "cell_type": "code",
      "metadata": {
        "id": "gwfMdQntVNkr",
        "colab_type": "code",
        "colab": {
          "base_uri": "https://localhost:8080/",
          "height": 34
        },
        "outputId": "bf268707-b645-4e58-b135-d85a743e3eb5"
      },
      "source": [
        "person = {\n",
        "  \"name\": \"Aaron\",\n",
        "  \"age\": 32,\n",
        "  \"title\": \"Mr\"\n",
        "}\n",
        "person[\"job\"]=\"Research Software Engineer\"\n",
        "print(person)"
      ],
      "execution_count": 178,
      "outputs": [
        {
          "output_type": "stream",
          "text": [
            "{'name': 'Aaron', 'age': 32, 'title': 'Mr', 'job': 'Research Software Engineer'}\n"
          ],
          "name": "stdout"
        }
      ]
    },
    {
      "cell_type": "markdown",
      "metadata": {
        "id": "nKT6Tqw5VVRn",
        "colab_type": "text"
      },
      "source": [
        "**Removing Items**"
      ]
    },
    {
      "cell_type": "code",
      "metadata": {
        "id": "H-9UzYVXVWZp",
        "colab_type": "code",
        "colab": {
          "base_uri": "https://localhost:8080/",
          "height": 34
        },
        "outputId": "948f7a45-8536-4043-f66c-49237dbb2322"
      },
      "source": [
        "person.pop(\"age\")\n",
        "print(person)"
      ],
      "execution_count": 179,
      "outputs": [
        {
          "output_type": "stream",
          "text": [
            "{'name': 'Aaron', 'title': 'Mr', 'job': 'Research Software Engineer'}\n"
          ],
          "name": "stdout"
        }
      ]
    },
    {
      "cell_type": "markdown",
      "metadata": {
        "id": "OwwGKMBHVZVW",
        "colab_type": "text"
      },
      "source": [
        "**Nested**"
      ]
    },
    {
      "cell_type": "code",
      "metadata": {
        "id": "-HekXUUqVaou",
        "colab_type": "code",
        "colab": {
          "base_uri": "https://localhost:8080/",
          "height": 68
        },
        "outputId": "e0e485e1-fddb-42eb-c19c-8df74fc8c87a"
      },
      "source": [
        "pets = {\n",
        "  \"mia\": {\n",
        "    \"age\": 4,\n",
        "  },\n",
        "  \"boy cat\" : {\n",
        "    \"age\": 9\n",
        "  },\n",
        "  \"girl cat\" : {\n",
        "    \"age\": 9\n",
        "  }\n",
        "}\n",
        "print(pets)\n",
        "print(pets[\"mia\"])\n",
        "print(pets[\"mia\"][\"age\"])"
      ],
      "execution_count": 180,
      "outputs": [
        {
          "output_type": "stream",
          "text": [
            "{'mia': {'age': 4}, 'boy cat': {'age': 9}, 'girl cat': {'age': 9}}\n",
            "{'age': 4}\n",
            "4\n"
          ],
          "name": "stdout"
        }
      ]
    }
  ]
}