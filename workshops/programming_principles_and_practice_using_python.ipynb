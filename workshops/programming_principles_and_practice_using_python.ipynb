{
  "nbformat": 4,
  "nbformat_minor": 0,
  "metadata": {
    "colab": {
      "name": "programming_principles_and_practice_using_python.ipynb",
      "provenance": [],
      "collapsed_sections": [],
      "authorship_tag": "ABX9TyNdWVlzjCmDnOzJvQF4AuXJ",
      "include_colab_link": true
    },
    "kernelspec": {
      "name": "python3",
      "display_name": "Python 3"
    }
  },
  "cells": [
    {
      "cell_type": "markdown",
      "metadata": {
        "id": "view-in-github",
        "colab_type": "text"
      },
      "source": [
        "<a href=\"https://colab.research.google.com/github/BangorUniversity/Research-Computing-Community/blob/master/workshops/programming_principles_and_practice_using_python.ipynb\" target=\"_parent\"><img src=\"https://colab.research.google.com/assets/colab-badge.svg\" alt=\"Open In Colab\"/></a>"
      ]
    },
    {
      "cell_type": "markdown",
      "metadata": {
        "id": "G6h9jbLOBhKA",
        "colab_type": "text"
      },
      "source": [
        "## **Programming Principles and Practice using Python**\n",
        "\n",
        "---\n",
        "\n",
        "*Morning*\n",
        "\n",
        "*   Environment\n",
        "*   Built-in Data Types\n",
        "*   Variables\n",
        "*   Comments\n",
        "*   Scripts\n",
        "*   Break 20 mins\n",
        "*   Data Structures\n",
        "*   Conditional Statements\n",
        "\n",
        "*Afternoon*\n",
        "\n",
        "*   Functions\n",
        "*   Documentation\n",
        "*   Errors\n",
        "*   Defensive Programming\n",
        "*   Break 20 mins\n",
        "*   File I/O\n",
        "*   Modules\n"
      ]
    },
    {
      "cell_type": "markdown",
      "metadata": {
        "id": "Z0R8P5N4Dv6O",
        "colab_type": "text"
      },
      "source": [
        "## **Environment**\n",
        "\n",
        "---\n",
        "\n",
        "TODO - Explain Google colab and the format of the workshop"
      ]
    },
    {
      "cell_type": "markdown",
      "metadata": {
        "id": "7F55vNDeEXQH",
        "colab_type": "text"
      },
      "source": [
        "## **What is Python**\n",
        "\n",
        "---\n",
        "\n",
        "*   Interpreted, interactive and object-oriented programming language.\n",
        "*   Highly scalable - Small applications to large-scale enterprise solutions.\n",
        "    *   Desktop, Scientific libraries and Web applications (MySCW).\n",
        "*   There are two versions of Python: 2.x and 3.x.\n",
        "    * Prefer 3.x for new development.\n",
        "    * If the codebase you are working on uses 2.x, then use 2.x.\n",
        "        * Many third-party libraries use 2.x.\n",
        "    * Python 2.7 will not be maintained past 2020.\n",
        "\n",
        "* Many developers will test ideas and protoypes in Python and drop down to a lower level language if required.\n",
        "\n",
        "* https://docs.python.org/3/"
      ]
    },
    {
      "cell_type": "markdown",
      "metadata": {
        "id": "6JnieQ53Kpna",
        "colab_type": "text"
      },
      "source": [
        "## **Workshop**\n",
        "\n",
        "---\n",
        "\n",
        "*    Using Python as a vehicle to learn good programming practises.\n",
        "*    Reflect on the concepts.\n",
        "    * How are they represented and used in different programming languages.\n",
        "*https://realpython.com/learning-paths/python3-introduction/\n",
        "    * Online tutorial\n",
        "* Feel free to ask questions."
      ]
    },
    {
      "cell_type": "markdown",
      "metadata": {
        "id": "g4_unSl4LE6u",
        "colab_type": "text"
      },
      "source": [
        "## **Built-In Data Types**\n",
        "\n",
        "---\n",
        "\n",
        "*    Data Types are an important concept in any programming language.\n",
        "*    Variables can store data of different data types and different data types behave differently.\n",
        "*    Different data types have different memory requirements.\n",
        "    * Text Type: `str`\n",
        "    * Numeric Types: `int`, `float`, `complex`\n",
        "    * Sequence Types: `list`, `tuple`, `range`\n",
        "    * Mapping Types: `dict`\n",
        "    * Set Types: `set`, `frozenset`\n",
        "    * Boolean Types: `bool`\n",
        "    * Binary Types: `bytes`, `bytearray`, `memoryview`\n",
        "\n"
      ]
    },
    {
      "cell_type": "markdown",
      "metadata": {
        "id": "b6Gatc3ZMH-Y",
        "colab_type": "text"
      },
      "source": [
        "## **Variables**\n",
        "\n",
        "---\n",
        "\n",
        "* Variables are containers for data.\n",
        "* Syntax to declare a variable is `name = value`\n",
        "    * `name` is assigned the `value`\n",
        "* Can name a variable anything you like apart from a few [reserved keywords](https://docs.python.org/3/reference/lexical_analysis.html#keywords).\n",
        "* In Python, a variable can be assigned a value of one type and then later re-assigned a value of a different type. \n",
        "    * Personally, I think its best to keep the type the same throughout it's lifetime.\n",
        "* Try not to use cryptic names.\n",
        "    * `i` as a for loop index is fine, `i` as a non index variable can be cryptic\n",
        "    * `n='Aaron'` or `name='Aaron'`?\n",
        "* Prefer to spend your time debugging the logic of your code rather than variable names.\n",
        "* Clear and self-explanatory variable names improve code readability for you and others."
      ]
    },
    {
      "cell_type": "markdown",
      "metadata": {
        "id": "QHznW4AcM4Ki",
        "colab_type": "text"
      },
      "source": [
        "## **Naming**\n",
        "\n",
        "---\n",
        "\n",
        "* **Camel Case**: Second and subsequent words are capitalized, to make word boundaries easier to see.\n",
        "    * Example: `numberOfCollegeGraduates`\n",
        "* **Pascal Case**: Identical to Camel Case, except the first word is also capitalized.\n",
        "    * Example: `NumberOfCollegeGraduates`\n",
        "* **Snake Case**: Words are separated by underscores.\n",
        "    * Example: `number_of_college_graduates`\n",
        "* Is it a matter of personal preference for your projects.\n",
        "* Be consistent.\n",
        "* Often a style will be defined for open source projects.\n",
        "* Personal preference is to use snake case for variables and functions and use Pascal Case for class names.\n"
      ]
    }
  ]
}